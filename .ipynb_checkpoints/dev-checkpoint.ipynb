{
 "cells": [
  {
   "cell_type": "code",
   "execution_count": null,
   "id": "0325f94c",
   "metadata": {},
   "outputs": [],
   "source": [
    "from importlib import reload\n",
    "reload(dm)"
   ]
  },
  {
   "cell_type": "code",
   "execution_count": 13,
   "id": "e842639e",
   "metadata": {},
   "outputs": [],
   "source": [
    "import pandas as pd"
   ]
  },
  {
   "cell_type": "code",
   "execution_count": 9,
   "id": "74a79158",
   "metadata": {
    "scrolled": false
   },
   "outputs": [],
   "source": [
    "from scoringmodel.predict import make_prediction"
   ]
  },
  {
   "cell_type": "code",
   "execution_count": 15,
   "id": "206fd27e",
   "metadata": {},
   "outputs": [],
   "source": [
    "input_data = {\n",
    "    'sex': [1],\n",
    "    'education': [3],\n",
    "    'marriage': [2],\n",
    "    'age': [40], \n",
    "    'limit_bal': [100000],\n",
    "    'pay_1': [-1],\n",
    "    'pay_2': [-1],\n",
    "    'pay_3': [-1],\n",
    "    'pay_4': [-1],\n",
    "    'pay_5': [-1],\n",
    "    'pay_6': [-1],\n",
    "    'bill_amt1': [8000],\n",
    "    'pay_amt1': [8000]\n",
    "}"
   ]
  },
  {
   "cell_type": "code",
   "execution_count": 16,
   "id": "ef94a5b4",
   "metadata": {},
   "outputs": [
    {
     "data": {
      "text/plain": [
       "{'predictions': [0.1875523673459126], 'version': '0.0.1', 'errors': None}"
      ]
     },
     "execution_count": 16,
     "metadata": {},
     "output_type": "execute_result"
    }
   ],
   "source": [
    "make_prediction(input_data=input_data)"
   ]
  },
  {
   "cell_type": "code",
   "execution_count": null,
   "id": "a15510ff",
   "metadata": {},
   "outputs": [],
   "source": []
  },
  {
   "cell_type": "code",
   "execution_count": null,
   "id": "c5412756",
   "metadata": {},
   "outputs": [],
   "source": []
  },
  {
   "cell_type": "code",
   "execution_count": null,
   "id": "fa3409d0",
   "metadata": {},
   "outputs": [],
   "source": [
    "import scoringmodel.processing.data_manager as dm"
   ]
  },
  {
   "cell_type": "code",
   "execution_count": null,
   "id": "c4684f60",
   "metadata": {},
   "outputs": [],
   "source": [
    "from scoringmodel.config.core import config"
   ]
  },
  {
   "cell_type": "code",
   "execution_count": null,
   "id": "9f2e13a8",
   "metadata": {},
   "outputs": [],
   "source": [
    "_version = dm._version"
   ]
  },
  {
   "cell_type": "code",
   "execution_count": null,
   "id": "7d1da600",
   "metadata": {},
   "outputs": [],
   "source": [
    "model_file_name = f\"{config.app_config.model_save_file}{_version}.pkl\""
   ]
  },
  {
   "cell_type": "code",
   "execution_count": null,
   "id": "411f8ede",
   "metadata": {},
   "outputs": [],
   "source": [
    "model = dm.load_model(file_name=model_file_name)"
   ]
  },
  {
   "cell_type": "code",
   "execution_count": null,
   "id": "583f5da6",
   "metadata": {},
   "outputs": [],
   "source": [
    "type(model)"
   ]
  },
  {
   "cell_type": "code",
   "execution_count": null,
   "id": "313748d4",
   "metadata": {},
   "outputs": [],
   "source": []
  },
  {
   "cell_type": "code",
   "execution_count": null,
   "id": "f0483d48",
   "metadata": {},
   "outputs": [],
   "source": [
    "import scoringmodel.config.core as core"
   ]
  },
  {
   "cell_type": "code",
   "execution_count": null,
   "id": "fd5c3344",
   "metadata": {},
   "outputs": [],
   "source": [
    "import scoringmodel.processing.data_manager as dm"
   ]
  },
  {
   "cell_type": "code",
   "execution_count": null,
   "id": "438172d9",
   "metadata": {},
   "outputs": [],
   "source": [
    "from scoringmodel.pipeline import feature_pipeline"
   ]
  },
  {
   "cell_type": "code",
   "execution_count": null,
   "id": "837d17e1",
   "metadata": {},
   "outputs": [],
   "source": [
    "filename = core.config.app_config.training_data_file"
   ]
  },
  {
   "cell_type": "code",
   "execution_count": null,
   "id": "c592fba9",
   "metadata": {
    "scrolled": false
   },
   "outputs": [],
   "source": [
    "data = dm.load_dataset(filename)"
   ]
  },
  {
   "cell_type": "code",
   "execution_count": null,
   "id": "fa4c2712",
   "metadata": {},
   "outputs": [],
   "source": [
    "concated = feature_pipeline(data)"
   ]
  },
  {
   "cell_type": "code",
   "execution_count": null,
   "id": "88b1a0b5",
   "metadata": {
    "scrolled": true
   },
   "outputs": [],
   "source": [
    "concated"
   ]
  },
  {
   "cell_type": "code",
   "execution_count": null,
   "id": "bb8601fb",
   "metadata": {},
   "outputs": [],
   "source": [
    "for col in concated.columns:\n",
    "    print(f'- {col}')"
   ]
  },
  {
   "cell_type": "code",
   "execution_count": null,
   "id": "173159da",
   "metadata": {
    "scrolled": false
   },
   "outputs": [],
   "source": [
    "import scoringmodel.train_pipeline as train_pipe"
   ]
  },
  {
   "cell_type": "code",
   "execution_count": null,
   "id": "d83af6e0",
   "metadata": {
    "scrolled": true
   },
   "outputs": [],
   "source": [
    "model = train_pipe.run_training()"
   ]
  },
  {
   "cell_type": "code",
   "execution_count": null,
   "id": "8bdb8844",
   "metadata": {},
   "outputs": [],
   "source": [
    "import lightgbm"
   ]
  },
  {
   "cell_type": "code",
   "execution_count": null,
   "id": "e9c1a87b",
   "metadata": {},
   "outputs": [],
   "source": [
    "model"
   ]
  },
  {
   "cell_type": "code",
   "execution_count": null,
   "id": "422ec3ad",
   "metadata": {},
   "outputs": [],
   "source": []
  }
 ],
 "metadata": {
  "kernelspec": {
   "display_name": "Python 3",
   "language": "python",
   "name": "python3"
  },
  "language_info": {
   "codemirror_mode": {
    "name": "ipython",
    "version": 3
   },
   "file_extension": ".py",
   "mimetype": "text/x-python",
   "name": "python",
   "nbconvert_exporter": "python",
   "pygments_lexer": "ipython3",
   "version": "3.8.8"
  }
 },
 "nbformat": 4,
 "nbformat_minor": 5
}
