{
 "cells": [
  {
   "cell_type": "code",
   "execution_count": null,
   "id": "0325f94c",
   "metadata": {},
   "outputs": [],
   "source": [
    "from importlib import reload\n",
    "reload(dm)"
   ]
  },
  {
   "cell_type": "code",
   "execution_count": null,
   "id": "4710f20d",
   "metadata": {},
   "outputs": [],
   "source": [
    "import pandas as pd"
   ]
  },
  {
   "cell_type": "code",
   "execution_count": 1,
   "id": "dd7d4b25",
   "metadata": {},
   "outputs": [],
   "source": [
    "from test.conftest import sample_input_data"
   ]
  },
  {
   "cell_type": "code",
   "execution_count": 5,
   "id": "aa574f22",
   "metadata": {},
   "outputs": [],
   "source": [
    "input_data = sample_input_data()"
   ]
  },
  {
   "cell_type": "code",
   "execution_count": null,
   "id": "0b0c04c6",
   "metadata": {},
   "outputs": [],
   "source": [
    "from scoringmodel.config.core import DATASET_DIR, config"
   ]
  },
  {
   "cell_type": "code",
   "execution_count": null,
   "id": "0c3edfa0",
   "metadata": {},
   "outputs": [],
   "source": [
    "from pathlib import Path"
   ]
  },
  {
   "cell_type": "code",
   "execution_count": null,
   "id": "36d08395",
   "metadata": {},
   "outputs": [],
   "source": [
    "filepath = DATASET_DIR / config.app_config.test_data_file"
   ]
  },
  {
   "cell_type": "code",
   "execution_count": 4,
   "id": "2ac19e6c",
   "metadata": {
    "scrolled": false
   },
   "outputs": [],
   "source": [
    "from scoringmodel.predict import make_prediction"
   ]
  },
  {
   "cell_type": "markdown",
   "id": "7e9deb8f",
   "metadata": {},
   "source": [
    "#### data validation\n",
    "- sex: int, 0 or 1\n",
    "- education: int, 1~6\n",
    "- marriage: int, 1~3\n",
    "- age: float, 0~150\n",
    "- limit_bal: int, >= 0\n",
    "- pay_n: int, -2~9\n",
    "- bill_amt: float\n",
    "- pay_amt: float"
   ]
  },
  {
   "cell_type": "code",
   "execution_count": null,
   "id": "dac7b9b1",
   "metadata": {},
   "outputs": [],
   "source": [
    "input_data = {\n",
    "    'sex': [1,0,0],\n",
    "    'education': [3,1,6],\n",
    "    'marriage': [2,3,1],\n",
    "    'age': [40,70,20], \n",
    "    'limit_bal': [100000,60000,30000],\n",
    "    'pay_1': [-1,0,-1],\n",
    "    'pay_2': [-1,1,-1],\n",
    "    'pay_3': [-1,1,-1],\n",
    "    'pay_4': [-1,1,-1],\n",
    "    'pay_5': [-1,1,-1],\n",
    "    'pay_6': [-1,1,-1],\n",
    "    'bill_amt1': [8000,12000, 30000],\n",
    "    'pay_amt1': [8000,8000, 30000]\n",
    "}"
   ]
  },
  {
   "cell_type": "code",
   "execution_count": null,
   "id": "d2cdbe10",
   "metadata": {},
   "outputs": [],
   "source": []
  },
  {
   "cell_type": "code",
   "execution_count": null,
   "id": "2d32f380",
   "metadata": {},
   "outputs": [],
   "source": [
    "sample_input_data = pd.DataFrame(input_data)"
   ]
  },
  {
   "cell_type": "code",
   "execution_count": null,
   "id": "8a9763dd",
   "metadata": {},
   "outputs": [],
   "source": [
    "sample_input_data.to_csv(filepath)"
   ]
  },
  {
   "cell_type": "code",
   "execution_count": 6,
   "id": "8fee53af",
   "metadata": {},
   "outputs": [
    {
     "data": {
      "text/plain": [
       "{'predictions': [0.1875523673459126, 0.27813997181831374, 0.19874952793345882],\n",
       " 'version': '0.0.1',\n",
       " 'errors': None}"
      ]
     },
     "execution_count": 6,
     "metadata": {},
     "output_type": "execute_result"
    }
   ],
   "source": [
    "make_prediction(input_data=input_data)"
   ]
  },
  {
   "cell_type": "code",
   "execution_count": 11,
   "id": "fe4917b4",
   "metadata": {},
   "outputs": [],
   "source": [
    "result = make_prediction(input_data=input_data)['predictions'][0]"
   ]
  },
  {
   "cell_type": "code",
   "execution_count": 7,
   "id": "8abc52fe",
   "metadata": {},
   "outputs": [],
   "source": [
    "import math"
   ]
  },
  {
   "cell_type": "code",
   "execution_count": 25,
   "id": "848990d6",
   "metadata": {},
   "outputs": [
    {
     "data": {
      "text/plain": [
       "True"
      ]
     },
     "execution_count": 25,
     "metadata": {},
     "output_type": "execute_result"
    }
   ],
   "source": [
    "math.isclose(result, 0.187552, abs_tol=0.0001)"
   ]
  },
  {
   "cell_type": "code",
   "execution_count": null,
   "id": "e18e9606",
   "metadata": {},
   "outputs": [],
   "source": [
    "import lightgbm"
   ]
  },
  {
   "cell_type": "code",
   "execution_count": null,
   "id": "95e95fe3",
   "metadata": {},
   "outputs": [],
   "source": [
    "import tox"
   ]
  },
  {
   "cell_type": "code",
   "execution_count": null,
   "id": "154e5710",
   "metadata": {},
   "outputs": [],
   "source": [
    "isort.__version__"
   ]
  },
  {
   "cell_type": "code",
   "execution_count": null,
   "id": "9cd11681",
   "metadata": {},
   "outputs": [],
   "source": []
  },
  {
   "cell_type": "code",
   "execution_count": null,
   "id": "f937ee75",
   "metadata": {},
   "outputs": [],
   "source": []
  },
  {
   "cell_type": "code",
   "execution_count": null,
   "id": "4527eb3a",
   "metadata": {},
   "outputs": [],
   "source": [
    "import scoringmodel.processing.data_manager as dm"
   ]
  },
  {
   "cell_type": "code",
   "execution_count": null,
   "id": "0bca3c1f",
   "metadata": {},
   "outputs": [],
   "source": [
    "from scoringmodel.config.core import config"
   ]
  },
  {
   "cell_type": "code",
   "execution_count": null,
   "id": "5eded538",
   "metadata": {},
   "outputs": [],
   "source": [
    "_version = dm._version"
   ]
  },
  {
   "cell_type": "code",
   "execution_count": null,
   "id": "f138f3e7",
   "metadata": {},
   "outputs": [],
   "source": [
    "model_file_name = f\"{config.app_config.model_save_file}{_version}.pkl\""
   ]
  },
  {
   "cell_type": "code",
   "execution_count": null,
   "id": "f50e56bf",
   "metadata": {},
   "outputs": [],
   "source": [
    "model = dm.load_model(file_name=model_file_name)"
   ]
  },
  {
   "cell_type": "code",
   "execution_count": null,
   "id": "4de01257",
   "metadata": {},
   "outputs": [],
   "source": [
    "type(model)"
   ]
  },
  {
   "cell_type": "code",
   "execution_count": null,
   "id": "6b779ea8",
   "metadata": {},
   "outputs": [],
   "source": []
  },
  {
   "cell_type": "code",
   "execution_count": null,
   "id": "f0483d48",
   "metadata": {},
   "outputs": [],
   "source": [
    "import scoringmodel.config.core as core"
   ]
  },
  {
   "cell_type": "code",
   "execution_count": null,
   "id": "fd5c3344",
   "metadata": {},
   "outputs": [],
   "source": [
    "import scoringmodel.processing.data_manager as dm"
   ]
  },
  {
   "cell_type": "code",
   "execution_count": null,
   "id": "0fffd506",
   "metadata": {},
   "outputs": [],
   "source": [
    "from scoringmodel.pipeline import feature_pipeline"
   ]
  },
  {
   "cell_type": "code",
   "execution_count": null,
   "id": "837d17e1",
   "metadata": {},
   "outputs": [],
   "source": [
    "filename = core.config.app_config.training_data_file"
   ]
  },
  {
   "cell_type": "code",
   "execution_count": null,
   "id": "c592fba9",
   "metadata": {
    "scrolled": false
   },
   "outputs": [],
   "source": [
    "data = dm.load_dataset(filename)"
   ]
  },
  {
   "cell_type": "code",
   "execution_count": null,
   "id": "fa4c2712",
   "metadata": {},
   "outputs": [],
   "source": [
    "concated = feature_pipeline(data)"
   ]
  },
  {
   "cell_type": "code",
   "execution_count": null,
   "id": "88b1a0b5",
   "metadata": {
    "scrolled": true
   },
   "outputs": [],
   "source": [
    "concated"
   ]
  },
  {
   "cell_type": "code",
   "execution_count": null,
   "id": "bb8601fb",
   "metadata": {},
   "outputs": [],
   "source": [
    "for col in concated.columns:\n",
    "    print(f'- {col}')"
   ]
  },
  {
   "cell_type": "code",
   "execution_count": null,
   "id": "173159da",
   "metadata": {
    "scrolled": false
   },
   "outputs": [],
   "source": [
    "import scoringmodel.train_pipeline as train_pipe"
   ]
  },
  {
   "cell_type": "code",
   "execution_count": null,
   "id": "13f5f694",
   "metadata": {
    "scrolled": true
   },
   "outputs": [],
   "source": [
    "model = train_pipe.run_training()"
   ]
  },
  {
   "cell_type": "code",
   "execution_count": null,
   "id": "20f4d979",
   "metadata": {},
   "outputs": [],
   "source": [
    "import lightgbm"
   ]
  },
  {
   "cell_type": "code",
   "execution_count": null,
   "id": "1306070e",
   "metadata": {},
   "outputs": [],
   "source": [
    "model"
   ]
  },
  {
   "cell_type": "code",
   "execution_count": null,
   "id": "c392d9d7",
   "metadata": {},
   "outputs": [],
   "source": []
  }
 ],
 "metadata": {
  "kernelspec": {
   "display_name": "Python 3",
   "language": "python",
   "name": "python3"
  },
  "language_info": {
   "codemirror_mode": {
    "name": "ipython",
    "version": 3
   },
   "file_extension": ".py",
   "mimetype": "text/x-python",
   "name": "python",
   "nbconvert_exporter": "python",
   "pygments_lexer": "ipython3",
   "version": "3.8.8"
  }
 },
 "nbformat": 4,
 "nbformat_minor": 5
}
