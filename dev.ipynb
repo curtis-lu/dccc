{
 "cells": [
  {
   "cell_type": "code",
   "execution_count": null,
   "id": "0325f94c",
   "metadata": {},
   "outputs": [],
   "source": [
    "from importlib import reload\n",
    "reload(dm)"
   ]
  },
  {
   "cell_type": "code",
   "execution_count": null,
   "id": "4710f20d",
   "metadata": {},
   "outputs": [],
   "source": [
    "import pandas as pd"
   ]
  },
  {
   "cell_type": "code",
   "execution_count": 1,
   "id": "dd7d4b25",
   "metadata": {},
   "outputs": [],
   "source": [
    "from test.conftest import sample_input_data"
   ]
  },
  {
   "cell_type": "code",
   "execution_count": 5,
   "id": "aa574f22",
   "metadata": {},
   "outputs": [],
   "source": [
    "input_data = sample_input_data()"
   ]
  },
  {
   "cell_type": "code",
   "execution_count": null,
   "id": "0b0c04c6",
   "metadata": {},
   "outputs": [],
   "source": [
    "from scoringmodel.config.core import DATASET_DIR, config"
   ]
  },
  {
   "cell_type": "code",
   "execution_count": null,
   "id": "0c3edfa0",
   "metadata": {},
   "outputs": [],
   "source": [
    "from pathlib import Path"
   ]
  },
  {
   "cell_type": "code",
   "execution_count": null,
   "id": "36d08395",
   "metadata": {},
   "outputs": [],
   "source": [
    "filepath = DATASET_DIR / config.app_config.test_data_file"
   ]
  },
  {
   "cell_type": "code",
   "execution_count": 4,
   "id": "2ac19e6c",
   "metadata": {
    "scrolled": false
   },
   "outputs": [],
   "source": [
    "from scoringmodel.predict import make_prediction"
   ]
  },
  {
   "cell_type": "markdown",
   "id": "c6408e9f",
   "metadata": {},
   "source": [
    "#### data validation\n",
    "- sex: int, 0 or 1\n",
    "- education: int, 1~6\n",
    "- marriage: int, 1~3\n",
    "- age: float, 0~150\n",
    "- limit_bal: int, >= 0\n",
    "- pay_n: int, -2~9\n",
    "- bill_amt: float\n",
    "- pay_amt: float"
   ]
  },
  {
   "cell_type": "code",
   "execution_count": null,
   "id": "dac7b9b1",
   "metadata": {},
   "outputs": [],
   "source": [
    "input_data = {\n",
    "    'sex': [1,0,0],\n",
    "    'education': [3,1,6],\n",
    "    'marriage': [2,3,1],\n",
    "    'age': [40,70,20], \n",
    "    'limit_bal': [100000,60000,30000],\n",
    "    'pay_1': [-1,0,-1],\n",
    "    'pay_2': [-1,1,-1],\n",
    "    'pay_3': [-1,1,-1],\n",
    "    'pay_4': [-1,1,-1],\n",
    "    'pay_5': [-1,1,-1],\n",
    "    'pay_6': [-1,1,-1],\n",
    "    'bill_amt1': [8000,12000, 30000],\n",
    "    'pay_amt1': [8000,8000, 30000]\n",
    "}"
   ]
  },
  {
   "cell_type": "code",
   "execution_count": null,
   "id": "0c74829e",
   "metadata": {},
   "outputs": [],
   "source": []
  },
  {
   "cell_type": "code",
   "execution_count": null,
   "id": "2d32f380",
   "metadata": {},
   "outputs": [],
   "source": [
    "sample_input_data = pd.DataFrame(input_data)"
   ]
  },
  {
   "cell_type": "code",
   "execution_count": null,
   "id": "8a9763dd",
   "metadata": {},
   "outputs": [],
   "source": [
    "sample_input_data.to_csv(filepath)"
   ]
  },
  {
   "cell_type": "code",
   "execution_count": 6,
   "id": "8fee53af",
   "execution_count": 16,
   "id": "ef94a5b4",
   "metadata": {},
   "outputs": [
    {
     "data": {
      "text/plain": [
       "{'predictions': [0.1875523673459126, 0.27813997181831374, 0.19874952793345882],\n",
       " 'version': '0.0.1',\n",
       " 'errors': None}"
      ]
     },
     "execution_count": 6,
     "metadata": {},
     "output_type": "execute_result"
    }
   ],
   "source": [
    "make_prediction(input_data=input_data)"
   ]
  },
  {
   "cell_type": "code",
   "execution_count": 11,
   "id": "fe4917b4",
   "metadata": {},
   "outputs": [],
   "source": [
    "result = make_prediction(input_data=input_data)['predictions'][0]"
   ]
  },
  {
   "cell_type": "code",
   "execution_count": 7,
   "id": "8abc52fe",
   "metadata": {},
   "outputs": [],
   "source": [
    "import math"
   ]
  },
  {
   "cell_type": "code",
   "execution_count": 25,
   "id": "848990d6",
   "metadata": {},
   "outputs": [
    {
     "data": {
      "text/plain": [
       "True"
      ]
     },
     "execution_count": 25,
     "metadata": {},
     "output_type": "execute_result"
    }
   ],
   "source": [
    "math.isclose(result, 0.187552, abs_tol=0.0001)"
   ]
  },
  {
   "cell_type": "code",
   "execution_count": null,
   "id": "e18e9606",
   "metadata": {},
   "outputs": [],
   "source": [
    "import lightgbm"
   ]
  },
  {
   "cell_type": "code",
   "execution_count": null,
   "id": "95e95fe3",
   "metadata": {},
   "outputs": [],
   "source": [
    "import tox"
   ]
  },
  {
   "cell_type": "code",
   "execution_count": null,
   "id": "154e5710",
   "metadata": {},
   "outputs": [],
   "source": [
    "isort.__version__"
   ]
  },
  {
   "cell_type": "code",
   "execution_count": null,
   "id": "9cd11681",
   "metadata": {},
   "outputs": [],
   "source": []
  },
  {
   "cell_type": "code",
   "execution_count": null,
   "id": "f937ee75",
   "metadata": {},
   "outputs": [],
   "source": []
  },
  {
   "cell_type": "code",
   "execution_count": null,
   "id": "4527eb3a",
   "metadata": {},
   "outputs": [],
   "source": [
    "import scoringmodel.processing.data_manager as dm"
   ]
  },
  {
   "cell_type": "code",
   "execution_count": null,
   "id": "0bca3c1f",
   "metadata": {},
   "outputs": [],
   "source": [
    "from scoringmodel.config.core import config"
   ]
  },
  {
   "cell_type": "code",
   "execution_count": null,
   "id": "5eded538",
   "metadata": {},
   "outputs": [],
   "source": [
    "_version = dm._version"
   ]
  },
  {
   "cell_type": "code",
   "execution_count": null,
   "id": "f138f3e7",
   "metadata": {},
   "outputs": [],
   "source": [
    "model_file_name = f\"{config.app_config.model_save_file}{_version}.pkl\""
   ]
  },
  {
   "cell_type": "code",
   "execution_count": null,
   "id": "f50e56bf",
   "metadata": {},
   "outputs": [],
   "source": [
    "model = dm.load_model(file_name=model_file_name)"
   ]
  },
  {
   "cell_type": "code",
   "execution_count": null,
   "id": "4de01257",
   "metadata": {},
   "outputs": [],
   "source": [
    "type(model)"
   ]
  },
  {
   "cell_type": "code",
   "execution_count": null,
   "id": "6b779ea8",
   "metadata": {},
   "outputs": [],
   "source": []
  },
  {
   "cell_type": "code",
   "execution_count": 2,
   "id": "f0483d48",
   "metadata": {},
   "outputs": [],
   "source": [
    "import scoringmodel.config.core as core"
   ]
  },
  {
   "cell_type": "code",
   "execution_count": 3,
   "id": "fd5c3344",
   "metadata": {},
   "outputs": [],
   "source": [
    "import scoringmodel.processing.data_manager as dm"
   ]
  },
  {
   "cell_type": "code",
   "execution_count": 4,
   "id": "0fffd506",
   "metadata": {},
   "outputs": [],
   "source": [
    "from scoringmodel.pipeline import feature_pipeline"
   ]
  },
  {
   "cell_type": "code",
   "execution_count": 5,
   "id": "837d17e1",
   "metadata": {},
   "outputs": [],
   "source": [
    "filename = core.config.app_config.training_data_file"
   ]
  },
  {
   "cell_type": "code",
   "execution_count": 6,
   "id": "c592fba9",
   "metadata": {
    "scrolled": false
   },
   "outputs": [],
   "source": [
    "data = dm.load_dataset(filename)"
   ]
  },
  {
   "cell_type": "code",
   "execution_count": 7,
   "id": "5eba4cc4",
   "metadata": {},
   "outputs": [
    {
     "data": {
      "text/plain": [
       "limit_bal    0\n",
       "sex          0\n",
       "education    0\n",
       "marriage     0\n",
       "age          0\n",
       "pay_1        0\n",
       "pay_2        0\n",
       "pay_3        0\n",
       "pay_4        0\n",
       "pay_5        0\n",
       "pay_6        0\n",
       "bill_amt1    0\n",
       "bill_amt2    0\n",
       "bill_amt3    0\n",
       "bill_amt4    0\n",
       "bill_amt5    0\n",
       "bill_amt6    0\n",
       "pay_amt1     0\n",
       "pay_amt2     0\n",
       "pay_amt3     0\n",
       "pay_amt4     0\n",
       "pay_amt5     0\n",
       "pay_amt6     0\n",
       "target       0\n",
       "dtype: int64"
      ]
     },
     "execution_count": 7,
     "metadata": {},
     "output_type": "execute_result"
    }
   ],
   "source": [
    "data.isnull().sum()"
   ]
  },
  {
   "cell_type": "code",
   "execution_count": 13,
   "id": "a781e6d0",
   "metadata": {},
   "outputs": [
    {
     "name": "stdout",
     "output_type": "stream",
     "text": [
      "limit_bal: Optional[int]\n",
      "sex: Optional[int]\n",
      "education: Optional[int]\n",
      "marriage: Optional[int]\n",
      "age: Optional[int]\n",
      "pay_1: Optional[int]\n",
      "pay_2: Optional[int]\n",
      "pay_3: Optional[int]\n",
      "pay_4: Optional[int]\n",
      "pay_5: Optional[int]\n",
      "pay_6: Optional[int]\n",
      "bill_amt1: Optional[int]\n",
      "bill_amt2: Optional[int]\n",
      "bill_amt3: Optional[int]\n",
      "bill_amt4: Optional[int]\n",
      "bill_amt5: Optional[int]\n",
      "bill_amt6: Optional[int]\n",
      "pay_amt1: Optional[int]\n",
      "pay_amt2: Optional[int]\n",
      "pay_amt3: Optional[int]\n",
      "pay_amt4: Optional[int]\n",
      "pay_amt5: Optional[int]\n",
      "pay_amt6: Optional[int]\n",
      "target: Optional[int]\n"
     ]
    }
   ],
   "source": [
    "for var in data.columns:\n",
    "    print(f'{var}: Optional[int]')"
   ]
  },
  {
   "cell_type": "code",
   "execution_count": 11,
   "id": "8d0e3483",
   "metadata": {},
   "outputs": [
    {
     "name": "stdout",
     "output_type": "stream",
     "text": [
      "limit_bal [ 20000 120000  90000  50000 500000 100000 140000 200000 260000 630000\n",
      "  70000 250000 320000 360000 180000]\n",
      "sex [2 1]\n",
      "education [2 1 3 5 4 6 0]\n",
      "marriage [1 2 3 0]\n",
      "age [24 26 34 37 57 29 23 28 35 51 41 30 49 39 40]\n",
      "pay_1 [ 2 -1  0 -2  1  3  4  8  7  5  6]\n",
      "pay_2 [ 2  0 -1 -2  3  5  7  4  1  6  8]\n",
      "pay_3 [-1  0  2 -2  3  4  6  7  1  5  8]\n",
      "pay_4 [-1  0 -2  2  3  4  5  7  6  1  8]\n",
      "pay_5 [-2  0 -1  2  3  5  4  7  8  6]\n",
      "pay_6 [-2  2  0 -1  3  6  4  7  8  5]\n",
      "bill_amt1 [  3913   2682  29239  46990   8617  64400 367965  11876  11285      0\n",
      "  11073  12261  12137  65802  70887]\n",
      "bill_amt2 [  3102   1725  14027  48233   5670  57069 412023    380  14096      0\n",
      "   9787  21670   6500  67369  67060]\n",
      "bill_amt3 [   689   2682  13559  49291  35835  57608 445007    601  12108      0\n",
      "   5535   9966   6500  65701  63561]\n",
      "bill_amt4 [     0   3272  14331  28314  20940  19394 542653    221  12211   2513\n",
      "   8517   6500  66782  59696  28771]\n",
      "bill_amt5 [     0   3455  14948  28959  19146  19619 483003   -159  11793  13007\n",
      "   1828  22287   6500  36137  56875]\n",
      "bill_amt6 [     0   3261  15549  29547  19131  20024 473944    567   3719  13912\n",
      "   3731  13668   2870  36894  55512]\n",
      "pay_amt1 [    0  1518  2000  2500 55000   380  3329  2306 21818  1000  3200  3000\n",
      " 10358   316  2007]\n",
      "pay_amt2 [  689  1000  1500  2019 36681  1815 40000   601     0    12  9966  6500\n",
      "  3000 10000  1537]\n",
      "pay_amt3 [    0  1000  1200 10000   657 38000   432    50  8583  6500  3000  1100\n",
      "  1500 75940   560]\n",
      "pay_amt4 [    0  1000  1100  9000 20239   581 13007   300 22301  6500  3000  1200\n",
      " 20000  2000   632]\n",
      "pay_amt5 [     0   1000   1069    689  13750   1687   1122   3738   2870   1500\n",
      "   3000   1300   1650 195599    930]\n",
      "pay_amt6 [    0  2000  5000  1000   679   800 13770  1542    66  3640  3000  1100\n",
      " 50000 33764  1820]\n",
      "target [1 0]\n"
     ]
    }
   ],
   "source": [
    "for var in data.columns:\n",
    "    print(var, data[var].unique()[0:15])"
   ]
  },
  {
   "cell_type": "code",
   "execution_count": null,
   "id": "fa4c2712",
   "metadata": {},
   "outputs": [],
   "source": [
    "concated = feature_pipeline(data)"
   ]
  },
  {
   "cell_type": "code",
   "execution_count": null,
   "id": "88b1a0b5",
   "metadata": {
    "scrolled": true
   },
   "outputs": [],
   "source": [
    "concated"
   ]
  },
  {
   "cell_type": "code",
   "execution_count": null,
   "id": "bb8601fb",
   "metadata": {},
   "outputs": [],
   "source": [
    "for col in concated.columns:\n",
    "    print(f'- {col}')"
   ]
  },
  {
   "cell_type": "code",
   "execution_count": null,
   "id": "173159da",
   "metadata": {
    "scrolled": false
   },
   "outputs": [],
   "source": [
    "import scoringmodel.train_pipeline as train_pipe"
   ]
  },
  {
   "cell_type": "code",
   "execution_count": null,
   "id": "13f5f694",
   "metadata": {
    "scrolled": true
   },
   "outputs": [],
   "source": [
    "model = train_pipe.run_training()"
   ]
  },
  {
   "cell_type": "code",
   "execution_count": null,
   "id": "20f4d979",
   "metadata": {},
   "outputs": [],
   "source": [
    "import lightgbm"
   ]
  },
  {
   "cell_type": "code",
   "execution_count": null,
   "id": "1306070e",
   "metadata": {},
   "outputs": [],
   "source": [
    "model"
   ]
  },
  {
   "cell_type": "code",
   "execution_count": null,
   "id": "c392d9d7",
   "metadata": {},
   "outputs": [],
   "source": []
  }
 ],
 "metadata": {
  "kernelspec": {
   "display_name": "Python 3",
   "language": "python",
   "name": "python3"
  },
  "language_info": {
   "codemirror_mode": {
    "name": "ipython",
    "version": 3
   },
   "file_extension": ".py",
   "mimetype": "text/x-python",
   "name": "python",
   "nbconvert_exporter": "python",
   "pygments_lexer": "ipython3",
   "version": "3.8.8"
  }
 },
 "nbformat": 4,
 "nbformat_minor": 5
}
