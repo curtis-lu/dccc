{
 "cells": [
  {
   "cell_type": "markdown",
   "id": "8506c934",
   "metadata": {},
   "source": [
    "**requirments**:\n",
    "- tox\n",
    "- strictyaml\n",
    "- pydantic\n",
    "- pytest\n",
    "- flake8, black, isort"
   ]
  },
  {
   "cell_type": "code",
   "execution_count": 1,
   "id": "684d1179",
   "metadata": {},
   "outputs": [],
   "source": [
    "import pandas as pd\n",
    "import numpy as np\n",
    "import matplotlib.pyplot as plt\n",
    "import seaborn as sns"
   ]
  },
  {
   "cell_type": "code",
   "execution_count": 2,
   "id": "530bf014",
   "metadata": {},
   "outputs": [],
   "source": [
    "import lightgbm as lgb\n",
    "from sklearn.model_selection import train_test_split"
   ]
  },
  {
   "cell_type": "code",
   "execution_count": 3,
   "id": "5066e67f",
   "metadata": {},
   "outputs": [],
   "source": [
    "pd.set_option('display.max_columns',None)"
   ]
  },
  {
   "cell_type": "code",
   "execution_count": 4,
   "id": "f631d6c1",
   "metadata": {},
   "outputs": [],
   "source": [
    "filepath = r'C:\\Users\\user\\00_notebooks\\default_credit_card_clients\\data\\source\\default of credit card clients.xls'"
   ]
  },
  {
   "cell_type": "code",
   "execution_count": 5,
   "id": "10f2b91c",
   "metadata": {},
   "outputs": [],
   "source": [
    "rawdata = pd.read_excel(filepath, index_col=0, header=1)"
   ]
  },
  {
   "cell_type": "markdown",
   "id": "2a042d8a",
   "metadata": {},
   "source": [
    "## Get to know the data"
   ]
  },
  {
   "cell_type": "code",
   "execution_count": 6,
   "id": "40618882",
   "metadata": {},
   "outputs": [
    {
     "data": {
      "text/html": [
       "<div>\n",
       "<style scoped>\n",
       "    .dataframe tbody tr th:only-of-type {\n",
       "        vertical-align: middle;\n",
       "    }\n",
       "\n",
       "    .dataframe tbody tr th {\n",
       "        vertical-align: top;\n",
       "    }\n",
       "\n",
       "    .dataframe thead th {\n",
       "        text-align: right;\n",
       "    }\n",
       "</style>\n",
       "<table border=\"1\" class=\"dataframe\">\n",
       "  <thead>\n",
       "    <tr style=\"text-align: right;\">\n",
       "      <th></th>\n",
       "      <th>LIMIT_BAL</th>\n",
       "      <th>SEX</th>\n",
       "      <th>EDUCATION</th>\n",
       "      <th>MARRIAGE</th>\n",
       "      <th>AGE</th>\n",
       "      <th>PAY_0</th>\n",
       "      <th>PAY_2</th>\n",
       "      <th>PAY_3</th>\n",
       "      <th>PAY_4</th>\n",
       "      <th>PAY_5</th>\n",
       "      <th>PAY_6</th>\n",
       "      <th>BILL_AMT1</th>\n",
       "      <th>BILL_AMT2</th>\n",
       "      <th>BILL_AMT3</th>\n",
       "      <th>BILL_AMT4</th>\n",
       "      <th>BILL_AMT5</th>\n",
       "      <th>BILL_AMT6</th>\n",
       "      <th>PAY_AMT1</th>\n",
       "      <th>PAY_AMT2</th>\n",
       "      <th>PAY_AMT3</th>\n",
       "      <th>PAY_AMT4</th>\n",
       "      <th>PAY_AMT5</th>\n",
       "      <th>PAY_AMT6</th>\n",
       "      <th>default payment next month</th>\n",
       "    </tr>\n",
       "    <tr>\n",
       "      <th>ID</th>\n",
       "      <th></th>\n",
       "      <th></th>\n",
       "      <th></th>\n",
       "      <th></th>\n",
       "      <th></th>\n",
       "      <th></th>\n",
       "      <th></th>\n",
       "      <th></th>\n",
       "      <th></th>\n",
       "      <th></th>\n",
       "      <th></th>\n",
       "      <th></th>\n",
       "      <th></th>\n",
       "      <th></th>\n",
       "      <th></th>\n",
       "      <th></th>\n",
       "      <th></th>\n",
       "      <th></th>\n",
       "      <th></th>\n",
       "      <th></th>\n",
       "      <th></th>\n",
       "      <th></th>\n",
       "      <th></th>\n",
       "      <th></th>\n",
       "    </tr>\n",
       "  </thead>\n",
       "  <tbody>\n",
       "    <tr>\n",
       "      <th>1</th>\n",
       "      <td>20000</td>\n",
       "      <td>2</td>\n",
       "      <td>2</td>\n",
       "      <td>1</td>\n",
       "      <td>24</td>\n",
       "      <td>2</td>\n",
       "      <td>2</td>\n",
       "      <td>-1</td>\n",
       "      <td>-1</td>\n",
       "      <td>-2</td>\n",
       "      <td>-2</td>\n",
       "      <td>3913</td>\n",
       "      <td>3102</td>\n",
       "      <td>689</td>\n",
       "      <td>0</td>\n",
       "      <td>0</td>\n",
       "      <td>0</td>\n",
       "      <td>0</td>\n",
       "      <td>689</td>\n",
       "      <td>0</td>\n",
       "      <td>0</td>\n",
       "      <td>0</td>\n",
       "      <td>0</td>\n",
       "      <td>1</td>\n",
       "    </tr>\n",
       "    <tr>\n",
       "      <th>2</th>\n",
       "      <td>120000</td>\n",
       "      <td>2</td>\n",
       "      <td>2</td>\n",
       "      <td>2</td>\n",
       "      <td>26</td>\n",
       "      <td>-1</td>\n",
       "      <td>2</td>\n",
       "      <td>0</td>\n",
       "      <td>0</td>\n",
       "      <td>0</td>\n",
       "      <td>2</td>\n",
       "      <td>2682</td>\n",
       "      <td>1725</td>\n",
       "      <td>2682</td>\n",
       "      <td>3272</td>\n",
       "      <td>3455</td>\n",
       "      <td>3261</td>\n",
       "      <td>0</td>\n",
       "      <td>1000</td>\n",
       "      <td>1000</td>\n",
       "      <td>1000</td>\n",
       "      <td>0</td>\n",
       "      <td>2000</td>\n",
       "      <td>1</td>\n",
       "    </tr>\n",
       "    <tr>\n",
       "      <th>3</th>\n",
       "      <td>90000</td>\n",
       "      <td>2</td>\n",
       "      <td>2</td>\n",
       "      <td>2</td>\n",
       "      <td>34</td>\n",
       "      <td>0</td>\n",
       "      <td>0</td>\n",
       "      <td>0</td>\n",
       "      <td>0</td>\n",
       "      <td>0</td>\n",
       "      <td>0</td>\n",
       "      <td>29239</td>\n",
       "      <td>14027</td>\n",
       "      <td>13559</td>\n",
       "      <td>14331</td>\n",
       "      <td>14948</td>\n",
       "      <td>15549</td>\n",
       "      <td>1518</td>\n",
       "      <td>1500</td>\n",
       "      <td>1000</td>\n",
       "      <td>1000</td>\n",
       "      <td>1000</td>\n",
       "      <td>5000</td>\n",
       "      <td>0</td>\n",
       "    </tr>\n",
       "    <tr>\n",
       "      <th>4</th>\n",
       "      <td>50000</td>\n",
       "      <td>2</td>\n",
       "      <td>2</td>\n",
       "      <td>1</td>\n",
       "      <td>37</td>\n",
       "      <td>0</td>\n",
       "      <td>0</td>\n",
       "      <td>0</td>\n",
       "      <td>0</td>\n",
       "      <td>0</td>\n",
       "      <td>0</td>\n",
       "      <td>46990</td>\n",
       "      <td>48233</td>\n",
       "      <td>49291</td>\n",
       "      <td>28314</td>\n",
       "      <td>28959</td>\n",
       "      <td>29547</td>\n",
       "      <td>2000</td>\n",
       "      <td>2019</td>\n",
       "      <td>1200</td>\n",
       "      <td>1100</td>\n",
       "      <td>1069</td>\n",
       "      <td>1000</td>\n",
       "      <td>0</td>\n",
       "    </tr>\n",
       "    <tr>\n",
       "      <th>5</th>\n",
       "      <td>50000</td>\n",
       "      <td>1</td>\n",
       "      <td>2</td>\n",
       "      <td>1</td>\n",
       "      <td>57</td>\n",
       "      <td>-1</td>\n",
       "      <td>0</td>\n",
       "      <td>-1</td>\n",
       "      <td>0</td>\n",
       "      <td>0</td>\n",
       "      <td>0</td>\n",
       "      <td>8617</td>\n",
       "      <td>5670</td>\n",
       "      <td>35835</td>\n",
       "      <td>20940</td>\n",
       "      <td>19146</td>\n",
       "      <td>19131</td>\n",
       "      <td>2000</td>\n",
       "      <td>36681</td>\n",
       "      <td>10000</td>\n",
       "      <td>9000</td>\n",
       "      <td>689</td>\n",
       "      <td>679</td>\n",
       "      <td>0</td>\n",
       "    </tr>\n",
       "    <tr>\n",
       "      <th>...</th>\n",
       "      <td>...</td>\n",
       "      <td>...</td>\n",
       "      <td>...</td>\n",
       "      <td>...</td>\n",
       "      <td>...</td>\n",
       "      <td>...</td>\n",
       "      <td>...</td>\n",
       "      <td>...</td>\n",
       "      <td>...</td>\n",
       "      <td>...</td>\n",
       "      <td>...</td>\n",
       "      <td>...</td>\n",
       "      <td>...</td>\n",
       "      <td>...</td>\n",
       "      <td>...</td>\n",
       "      <td>...</td>\n",
       "      <td>...</td>\n",
       "      <td>...</td>\n",
       "      <td>...</td>\n",
       "      <td>...</td>\n",
       "      <td>...</td>\n",
       "      <td>...</td>\n",
       "      <td>...</td>\n",
       "      <td>...</td>\n",
       "    </tr>\n",
       "    <tr>\n",
       "      <th>29996</th>\n",
       "      <td>220000</td>\n",
       "      <td>1</td>\n",
       "      <td>3</td>\n",
       "      <td>1</td>\n",
       "      <td>39</td>\n",
       "      <td>0</td>\n",
       "      <td>0</td>\n",
       "      <td>0</td>\n",
       "      <td>0</td>\n",
       "      <td>0</td>\n",
       "      <td>0</td>\n",
       "      <td>188948</td>\n",
       "      <td>192815</td>\n",
       "      <td>208365</td>\n",
       "      <td>88004</td>\n",
       "      <td>31237</td>\n",
       "      <td>15980</td>\n",
       "      <td>8500</td>\n",
       "      <td>20000</td>\n",
       "      <td>5003</td>\n",
       "      <td>3047</td>\n",
       "      <td>5000</td>\n",
       "      <td>1000</td>\n",
       "      <td>0</td>\n",
       "    </tr>\n",
       "    <tr>\n",
       "      <th>29997</th>\n",
       "      <td>150000</td>\n",
       "      <td>1</td>\n",
       "      <td>3</td>\n",
       "      <td>2</td>\n",
       "      <td>43</td>\n",
       "      <td>-1</td>\n",
       "      <td>-1</td>\n",
       "      <td>-1</td>\n",
       "      <td>-1</td>\n",
       "      <td>0</td>\n",
       "      <td>0</td>\n",
       "      <td>1683</td>\n",
       "      <td>1828</td>\n",
       "      <td>3502</td>\n",
       "      <td>8979</td>\n",
       "      <td>5190</td>\n",
       "      <td>0</td>\n",
       "      <td>1837</td>\n",
       "      <td>3526</td>\n",
       "      <td>8998</td>\n",
       "      <td>129</td>\n",
       "      <td>0</td>\n",
       "      <td>0</td>\n",
       "      <td>0</td>\n",
       "    </tr>\n",
       "    <tr>\n",
       "      <th>29998</th>\n",
       "      <td>30000</td>\n",
       "      <td>1</td>\n",
       "      <td>2</td>\n",
       "      <td>2</td>\n",
       "      <td>37</td>\n",
       "      <td>4</td>\n",
       "      <td>3</td>\n",
       "      <td>2</td>\n",
       "      <td>-1</td>\n",
       "      <td>0</td>\n",
       "      <td>0</td>\n",
       "      <td>3565</td>\n",
       "      <td>3356</td>\n",
       "      <td>2758</td>\n",
       "      <td>20878</td>\n",
       "      <td>20582</td>\n",
       "      <td>19357</td>\n",
       "      <td>0</td>\n",
       "      <td>0</td>\n",
       "      <td>22000</td>\n",
       "      <td>4200</td>\n",
       "      <td>2000</td>\n",
       "      <td>3100</td>\n",
       "      <td>1</td>\n",
       "    </tr>\n",
       "    <tr>\n",
       "      <th>29999</th>\n",
       "      <td>80000</td>\n",
       "      <td>1</td>\n",
       "      <td>3</td>\n",
       "      <td>1</td>\n",
       "      <td>41</td>\n",
       "      <td>1</td>\n",
       "      <td>-1</td>\n",
       "      <td>0</td>\n",
       "      <td>0</td>\n",
       "      <td>0</td>\n",
       "      <td>-1</td>\n",
       "      <td>-1645</td>\n",
       "      <td>78379</td>\n",
       "      <td>76304</td>\n",
       "      <td>52774</td>\n",
       "      <td>11855</td>\n",
       "      <td>48944</td>\n",
       "      <td>85900</td>\n",
       "      <td>3409</td>\n",
       "      <td>1178</td>\n",
       "      <td>1926</td>\n",
       "      <td>52964</td>\n",
       "      <td>1804</td>\n",
       "      <td>1</td>\n",
       "    </tr>\n",
       "    <tr>\n",
       "      <th>30000</th>\n",
       "      <td>50000</td>\n",
       "      <td>1</td>\n",
       "      <td>2</td>\n",
       "      <td>1</td>\n",
       "      <td>46</td>\n",
       "      <td>0</td>\n",
       "      <td>0</td>\n",
       "      <td>0</td>\n",
       "      <td>0</td>\n",
       "      <td>0</td>\n",
       "      <td>0</td>\n",
       "      <td>47929</td>\n",
       "      <td>48905</td>\n",
       "      <td>49764</td>\n",
       "      <td>36535</td>\n",
       "      <td>32428</td>\n",
       "      <td>15313</td>\n",
       "      <td>2078</td>\n",
       "      <td>1800</td>\n",
       "      <td>1430</td>\n",
       "      <td>1000</td>\n",
       "      <td>1000</td>\n",
       "      <td>1000</td>\n",
       "      <td>1</td>\n",
       "    </tr>\n",
       "  </tbody>\n",
       "</table>\n",
       "<p>30000 rows × 24 columns</p>\n",
       "</div>"
      ],
      "text/plain": [
       "       LIMIT_BAL  SEX  EDUCATION  MARRIAGE  AGE  PAY_0  PAY_2  PAY_3  PAY_4  \\\n",
       "ID                                                                            \n",
       "1          20000    2          2         1   24      2      2     -1     -1   \n",
       "2         120000    2          2         2   26     -1      2      0      0   \n",
       "3          90000    2          2         2   34      0      0      0      0   \n",
       "4          50000    2          2         1   37      0      0      0      0   \n",
       "5          50000    1          2         1   57     -1      0     -1      0   \n",
       "...          ...  ...        ...       ...  ...    ...    ...    ...    ...   \n",
       "29996     220000    1          3         1   39      0      0      0      0   \n",
       "29997     150000    1          3         2   43     -1     -1     -1     -1   \n",
       "29998      30000    1          2         2   37      4      3      2     -1   \n",
       "29999      80000    1          3         1   41      1     -1      0      0   \n",
       "30000      50000    1          2         1   46      0      0      0      0   \n",
       "\n",
       "       PAY_5  PAY_6  BILL_AMT1  BILL_AMT2  BILL_AMT3  BILL_AMT4  BILL_AMT5  \\\n",
       "ID                                                                           \n",
       "1         -2     -2       3913       3102        689          0          0   \n",
       "2          0      2       2682       1725       2682       3272       3455   \n",
       "3          0      0      29239      14027      13559      14331      14948   \n",
       "4          0      0      46990      48233      49291      28314      28959   \n",
       "5          0      0       8617       5670      35835      20940      19146   \n",
       "...      ...    ...        ...        ...        ...        ...        ...   \n",
       "29996      0      0     188948     192815     208365      88004      31237   \n",
       "29997      0      0       1683       1828       3502       8979       5190   \n",
       "29998      0      0       3565       3356       2758      20878      20582   \n",
       "29999      0     -1      -1645      78379      76304      52774      11855   \n",
       "30000      0      0      47929      48905      49764      36535      32428   \n",
       "\n",
       "       BILL_AMT6  PAY_AMT1  PAY_AMT2  PAY_AMT3  PAY_AMT4  PAY_AMT5  PAY_AMT6  \\\n",
       "ID                                                                             \n",
       "1              0         0       689         0         0         0         0   \n",
       "2           3261         0      1000      1000      1000         0      2000   \n",
       "3          15549      1518      1500      1000      1000      1000      5000   \n",
       "4          29547      2000      2019      1200      1100      1069      1000   \n",
       "5          19131      2000     36681     10000      9000       689       679   \n",
       "...          ...       ...       ...       ...       ...       ...       ...   \n",
       "29996      15980      8500     20000      5003      3047      5000      1000   \n",
       "29997          0      1837      3526      8998       129         0         0   \n",
       "29998      19357         0         0     22000      4200      2000      3100   \n",
       "29999      48944     85900      3409      1178      1926     52964      1804   \n",
       "30000      15313      2078      1800      1430      1000      1000      1000   \n",
       "\n",
       "       default payment next month  \n",
       "ID                                 \n",
       "1                               1  \n",
       "2                               1  \n",
       "3                               0  \n",
       "4                               0  \n",
       "5                               0  \n",
       "...                           ...  \n",
       "29996                           0  \n",
       "29997                           0  \n",
       "29998                           1  \n",
       "29999                           1  \n",
       "30000                           1  \n",
       "\n",
       "[30000 rows x 24 columns]"
      ]
     },
     "execution_count": 6,
     "metadata": {},
     "output_type": "execute_result"
    }
   ],
   "source": [
    "rawdata"
   ]
  },
  {
   "cell_type": "code",
   "execution_count": 7,
   "id": "e0ac0c6f",
   "metadata": {},
   "outputs": [
    {
     "data": {
      "text/html": [
       "<div>\n",
       "<style scoped>\n",
       "    .dataframe tbody tr th:only-of-type {\n",
       "        vertical-align: middle;\n",
       "    }\n",
       "\n",
       "    .dataframe tbody tr th {\n",
       "        vertical-align: top;\n",
       "    }\n",
       "\n",
       "    .dataframe thead th {\n",
       "        text-align: right;\n",
       "    }\n",
       "</style>\n",
       "<table border=\"1\" class=\"dataframe\">\n",
       "  <thead>\n",
       "    <tr style=\"text-align: right;\">\n",
       "      <th></th>\n",
       "      <th>LIMIT_BAL</th>\n",
       "      <th>SEX</th>\n",
       "      <th>EDUCATION</th>\n",
       "      <th>MARRIAGE</th>\n",
       "      <th>AGE</th>\n",
       "      <th>PAY_0</th>\n",
       "      <th>PAY_2</th>\n",
       "      <th>PAY_3</th>\n",
       "      <th>PAY_4</th>\n",
       "      <th>PAY_5</th>\n",
       "      <th>PAY_6</th>\n",
       "      <th>BILL_AMT1</th>\n",
       "      <th>BILL_AMT2</th>\n",
       "      <th>BILL_AMT3</th>\n",
       "      <th>BILL_AMT4</th>\n",
       "      <th>BILL_AMT5</th>\n",
       "      <th>BILL_AMT6</th>\n",
       "      <th>PAY_AMT1</th>\n",
       "      <th>PAY_AMT2</th>\n",
       "      <th>PAY_AMT3</th>\n",
       "      <th>PAY_AMT4</th>\n",
       "      <th>PAY_AMT5</th>\n",
       "      <th>PAY_AMT6</th>\n",
       "      <th>default payment next month</th>\n",
       "    </tr>\n",
       "  </thead>\n",
       "  <tbody>\n",
       "    <tr>\n",
       "      <th>count</th>\n",
       "      <td>30000.000000</td>\n",
       "      <td>30000.000000</td>\n",
       "      <td>30000.000000</td>\n",
       "      <td>30000.000000</td>\n",
       "      <td>30000.000000</td>\n",
       "      <td>30000.000000</td>\n",
       "      <td>30000.000000</td>\n",
       "      <td>30000.000000</td>\n",
       "      <td>30000.000000</td>\n",
       "      <td>30000.000000</td>\n",
       "      <td>30000.000000</td>\n",
       "      <td>30000.000000</td>\n",
       "      <td>30000.000000</td>\n",
       "      <td>3.000000e+04</td>\n",
       "      <td>30000.000000</td>\n",
       "      <td>30000.000000</td>\n",
       "      <td>30000.000000</td>\n",
       "      <td>30000.000000</td>\n",
       "      <td>3.000000e+04</td>\n",
       "      <td>30000.00000</td>\n",
       "      <td>30000.000000</td>\n",
       "      <td>30000.000000</td>\n",
       "      <td>30000.000000</td>\n",
       "      <td>30000.000000</td>\n",
       "    </tr>\n",
       "    <tr>\n",
       "      <th>mean</th>\n",
       "      <td>167484.322667</td>\n",
       "      <td>1.603733</td>\n",
       "      <td>1.853133</td>\n",
       "      <td>1.551867</td>\n",
       "      <td>35.485500</td>\n",
       "      <td>-0.016700</td>\n",
       "      <td>-0.133767</td>\n",
       "      <td>-0.166200</td>\n",
       "      <td>-0.220667</td>\n",
       "      <td>-0.266200</td>\n",
       "      <td>-0.291100</td>\n",
       "      <td>51223.330900</td>\n",
       "      <td>49179.075167</td>\n",
       "      <td>4.701315e+04</td>\n",
       "      <td>43262.948967</td>\n",
       "      <td>40311.400967</td>\n",
       "      <td>38871.760400</td>\n",
       "      <td>5663.580500</td>\n",
       "      <td>5.921163e+03</td>\n",
       "      <td>5225.68150</td>\n",
       "      <td>4826.076867</td>\n",
       "      <td>4799.387633</td>\n",
       "      <td>5215.502567</td>\n",
       "      <td>0.221200</td>\n",
       "    </tr>\n",
       "    <tr>\n",
       "      <th>std</th>\n",
       "      <td>129747.661567</td>\n",
       "      <td>0.489129</td>\n",
       "      <td>0.790349</td>\n",
       "      <td>0.521970</td>\n",
       "      <td>9.217904</td>\n",
       "      <td>1.123802</td>\n",
       "      <td>1.197186</td>\n",
       "      <td>1.196868</td>\n",
       "      <td>1.169139</td>\n",
       "      <td>1.133187</td>\n",
       "      <td>1.149988</td>\n",
       "      <td>73635.860576</td>\n",
       "      <td>71173.768783</td>\n",
       "      <td>6.934939e+04</td>\n",
       "      <td>64332.856134</td>\n",
       "      <td>60797.155770</td>\n",
       "      <td>59554.107537</td>\n",
       "      <td>16563.280354</td>\n",
       "      <td>2.304087e+04</td>\n",
       "      <td>17606.96147</td>\n",
       "      <td>15666.159744</td>\n",
       "      <td>15278.305679</td>\n",
       "      <td>17777.465775</td>\n",
       "      <td>0.415062</td>\n",
       "    </tr>\n",
       "    <tr>\n",
       "      <th>min</th>\n",
       "      <td>10000.000000</td>\n",
       "      <td>1.000000</td>\n",
       "      <td>0.000000</td>\n",
       "      <td>0.000000</td>\n",
       "      <td>21.000000</td>\n",
       "      <td>-2.000000</td>\n",
       "      <td>-2.000000</td>\n",
       "      <td>-2.000000</td>\n",
       "      <td>-2.000000</td>\n",
       "      <td>-2.000000</td>\n",
       "      <td>-2.000000</td>\n",
       "      <td>-165580.000000</td>\n",
       "      <td>-69777.000000</td>\n",
       "      <td>-1.572640e+05</td>\n",
       "      <td>-170000.000000</td>\n",
       "      <td>-81334.000000</td>\n",
       "      <td>-339603.000000</td>\n",
       "      <td>0.000000</td>\n",
       "      <td>0.000000e+00</td>\n",
       "      <td>0.00000</td>\n",
       "      <td>0.000000</td>\n",
       "      <td>0.000000</td>\n",
       "      <td>0.000000</td>\n",
       "      <td>0.000000</td>\n",
       "    </tr>\n",
       "    <tr>\n",
       "      <th>25%</th>\n",
       "      <td>50000.000000</td>\n",
       "      <td>1.000000</td>\n",
       "      <td>1.000000</td>\n",
       "      <td>1.000000</td>\n",
       "      <td>28.000000</td>\n",
       "      <td>-1.000000</td>\n",
       "      <td>-1.000000</td>\n",
       "      <td>-1.000000</td>\n",
       "      <td>-1.000000</td>\n",
       "      <td>-1.000000</td>\n",
       "      <td>-1.000000</td>\n",
       "      <td>3558.750000</td>\n",
       "      <td>2984.750000</td>\n",
       "      <td>2.666250e+03</td>\n",
       "      <td>2326.750000</td>\n",
       "      <td>1763.000000</td>\n",
       "      <td>1256.000000</td>\n",
       "      <td>1000.000000</td>\n",
       "      <td>8.330000e+02</td>\n",
       "      <td>390.00000</td>\n",
       "      <td>296.000000</td>\n",
       "      <td>252.500000</td>\n",
       "      <td>117.750000</td>\n",
       "      <td>0.000000</td>\n",
       "    </tr>\n",
       "    <tr>\n",
       "      <th>50%</th>\n",
       "      <td>140000.000000</td>\n",
       "      <td>2.000000</td>\n",
       "      <td>2.000000</td>\n",
       "      <td>2.000000</td>\n",
       "      <td>34.000000</td>\n",
       "      <td>0.000000</td>\n",
       "      <td>0.000000</td>\n",
       "      <td>0.000000</td>\n",
       "      <td>0.000000</td>\n",
       "      <td>0.000000</td>\n",
       "      <td>0.000000</td>\n",
       "      <td>22381.500000</td>\n",
       "      <td>21200.000000</td>\n",
       "      <td>2.008850e+04</td>\n",
       "      <td>19052.000000</td>\n",
       "      <td>18104.500000</td>\n",
       "      <td>17071.000000</td>\n",
       "      <td>2100.000000</td>\n",
       "      <td>2.009000e+03</td>\n",
       "      <td>1800.00000</td>\n",
       "      <td>1500.000000</td>\n",
       "      <td>1500.000000</td>\n",
       "      <td>1500.000000</td>\n",
       "      <td>0.000000</td>\n",
       "    </tr>\n",
       "    <tr>\n",
       "      <th>75%</th>\n",
       "      <td>240000.000000</td>\n",
       "      <td>2.000000</td>\n",
       "      <td>2.000000</td>\n",
       "      <td>2.000000</td>\n",
       "      <td>41.000000</td>\n",
       "      <td>0.000000</td>\n",
       "      <td>0.000000</td>\n",
       "      <td>0.000000</td>\n",
       "      <td>0.000000</td>\n",
       "      <td>0.000000</td>\n",
       "      <td>0.000000</td>\n",
       "      <td>67091.000000</td>\n",
       "      <td>64006.250000</td>\n",
       "      <td>6.016475e+04</td>\n",
       "      <td>54506.000000</td>\n",
       "      <td>50190.500000</td>\n",
       "      <td>49198.250000</td>\n",
       "      <td>5006.000000</td>\n",
       "      <td>5.000000e+03</td>\n",
       "      <td>4505.00000</td>\n",
       "      <td>4013.250000</td>\n",
       "      <td>4031.500000</td>\n",
       "      <td>4000.000000</td>\n",
       "      <td>0.000000</td>\n",
       "    </tr>\n",
       "    <tr>\n",
       "      <th>max</th>\n",
       "      <td>1000000.000000</td>\n",
       "      <td>2.000000</td>\n",
       "      <td>6.000000</td>\n",
       "      <td>3.000000</td>\n",
       "      <td>79.000000</td>\n",
       "      <td>8.000000</td>\n",
       "      <td>8.000000</td>\n",
       "      <td>8.000000</td>\n",
       "      <td>8.000000</td>\n",
       "      <td>8.000000</td>\n",
       "      <td>8.000000</td>\n",
       "      <td>964511.000000</td>\n",
       "      <td>983931.000000</td>\n",
       "      <td>1.664089e+06</td>\n",
       "      <td>891586.000000</td>\n",
       "      <td>927171.000000</td>\n",
       "      <td>961664.000000</td>\n",
       "      <td>873552.000000</td>\n",
       "      <td>1.684259e+06</td>\n",
       "      <td>896040.00000</td>\n",
       "      <td>621000.000000</td>\n",
       "      <td>426529.000000</td>\n",
       "      <td>528666.000000</td>\n",
       "      <td>1.000000</td>\n",
       "    </tr>\n",
       "  </tbody>\n",
       "</table>\n",
       "</div>"
      ],
      "text/plain": [
       "            LIMIT_BAL           SEX     EDUCATION      MARRIAGE           AGE  \\\n",
       "count    30000.000000  30000.000000  30000.000000  30000.000000  30000.000000   \n",
       "mean    167484.322667      1.603733      1.853133      1.551867     35.485500   \n",
       "std     129747.661567      0.489129      0.790349      0.521970      9.217904   \n",
       "min      10000.000000      1.000000      0.000000      0.000000     21.000000   \n",
       "25%      50000.000000      1.000000      1.000000      1.000000     28.000000   \n",
       "50%     140000.000000      2.000000      2.000000      2.000000     34.000000   \n",
       "75%     240000.000000      2.000000      2.000000      2.000000     41.000000   \n",
       "max    1000000.000000      2.000000      6.000000      3.000000     79.000000   \n",
       "\n",
       "              PAY_0         PAY_2         PAY_3         PAY_4         PAY_5  \\\n",
       "count  30000.000000  30000.000000  30000.000000  30000.000000  30000.000000   \n",
       "mean      -0.016700     -0.133767     -0.166200     -0.220667     -0.266200   \n",
       "std        1.123802      1.197186      1.196868      1.169139      1.133187   \n",
       "min       -2.000000     -2.000000     -2.000000     -2.000000     -2.000000   \n",
       "25%       -1.000000     -1.000000     -1.000000     -1.000000     -1.000000   \n",
       "50%        0.000000      0.000000      0.000000      0.000000      0.000000   \n",
       "75%        0.000000      0.000000      0.000000      0.000000      0.000000   \n",
       "max        8.000000      8.000000      8.000000      8.000000      8.000000   \n",
       "\n",
       "              PAY_6      BILL_AMT1      BILL_AMT2     BILL_AMT3  \\\n",
       "count  30000.000000   30000.000000   30000.000000  3.000000e+04   \n",
       "mean      -0.291100   51223.330900   49179.075167  4.701315e+04   \n",
       "std        1.149988   73635.860576   71173.768783  6.934939e+04   \n",
       "min       -2.000000 -165580.000000  -69777.000000 -1.572640e+05   \n",
       "25%       -1.000000    3558.750000    2984.750000  2.666250e+03   \n",
       "50%        0.000000   22381.500000   21200.000000  2.008850e+04   \n",
       "75%        0.000000   67091.000000   64006.250000  6.016475e+04   \n",
       "max        8.000000  964511.000000  983931.000000  1.664089e+06   \n",
       "\n",
       "           BILL_AMT4      BILL_AMT5      BILL_AMT6       PAY_AMT1  \\\n",
       "count   30000.000000   30000.000000   30000.000000   30000.000000   \n",
       "mean    43262.948967   40311.400967   38871.760400    5663.580500   \n",
       "std     64332.856134   60797.155770   59554.107537   16563.280354   \n",
       "min   -170000.000000  -81334.000000 -339603.000000       0.000000   \n",
       "25%      2326.750000    1763.000000    1256.000000    1000.000000   \n",
       "50%     19052.000000   18104.500000   17071.000000    2100.000000   \n",
       "75%     54506.000000   50190.500000   49198.250000    5006.000000   \n",
       "max    891586.000000  927171.000000  961664.000000  873552.000000   \n",
       "\n",
       "           PAY_AMT2      PAY_AMT3       PAY_AMT4       PAY_AMT5  \\\n",
       "count  3.000000e+04   30000.00000   30000.000000   30000.000000   \n",
       "mean   5.921163e+03    5225.68150    4826.076867    4799.387633   \n",
       "std    2.304087e+04   17606.96147   15666.159744   15278.305679   \n",
       "min    0.000000e+00       0.00000       0.000000       0.000000   \n",
       "25%    8.330000e+02     390.00000     296.000000     252.500000   \n",
       "50%    2.009000e+03    1800.00000    1500.000000    1500.000000   \n",
       "75%    5.000000e+03    4505.00000    4013.250000    4031.500000   \n",
       "max    1.684259e+06  896040.00000  621000.000000  426529.000000   \n",
       "\n",
       "            PAY_AMT6  default payment next month  \n",
       "count   30000.000000                30000.000000  \n",
       "mean     5215.502567                    0.221200  \n",
       "std     17777.465775                    0.415062  \n",
       "min         0.000000                    0.000000  \n",
       "25%       117.750000                    0.000000  \n",
       "50%      1500.000000                    0.000000  \n",
       "75%      4000.000000                    0.000000  \n",
       "max    528666.000000                    1.000000  "
      ]
     },
     "execution_count": 7,
     "metadata": {},
     "output_type": "execute_result"
    }
   ],
   "source": [
    "rawdata.describe()"
   ]
  },
  {
   "cell_type": "code",
   "execution_count": 8,
   "id": "6adf6e61",
   "metadata": {
    "scrolled": false
   },
   "outputs": [
    {
     "name": "stdout",
     "output_type": "stream",
     "text": [
      "LIMIT_BAL [ 20000 120000  90000  50000 500000 100000 140000 200000 260000 630000\n",
      "  70000 250000 320000 360000 180000]\n",
      "SEX [2 1]\n",
      "EDUCATION [2 1 3 5 4 6 0]\n",
      "MARRIAGE [1 2 3 0]\n",
      "AGE [24 26 34 37 57 29 23 28 35 51 41 30 49 39 40]\n",
      "PAY_0 [ 2 -1  0 -2  1  3  4  8  7  5  6]\n",
      "PAY_2 [ 2  0 -1 -2  3  5  7  4  1  6  8]\n",
      "PAY_3 [-1  0  2 -2  3  4  6  7  1  5  8]\n",
      "PAY_4 [-1  0 -2  2  3  4  5  7  6  1  8]\n",
      "PAY_5 [-2  0 -1  2  3  5  4  7  8  6]\n",
      "PAY_6 [-2  2  0 -1  3  6  4  7  8  5]\n",
      "BILL_AMT1 [  3913   2682  29239  46990   8617  64400 367965  11876  11285      0\n",
      "  11073  12261  12137  65802  70887]\n",
      "BILL_AMT2 [  3102   1725  14027  48233   5670  57069 412023    380  14096      0\n",
      "   9787  21670   6500  67369  67060]\n",
      "BILL_AMT3 [   689   2682  13559  49291  35835  57608 445007    601  12108      0\n",
      "   5535   9966   6500  65701  63561]\n",
      "BILL_AMT4 [     0   3272  14331  28314  20940  19394 542653    221  12211   2513\n",
      "   8517   6500  66782  59696  28771]\n",
      "BILL_AMT5 [     0   3455  14948  28959  19146  19619 483003   -159  11793  13007\n",
      "   1828  22287   6500  36137  56875]\n",
      "BILL_AMT6 [     0   3261  15549  29547  19131  20024 473944    567   3719  13912\n",
      "   3731  13668   2870  36894  55512]\n",
      "PAY_AMT1 [    0  1518  2000  2500 55000   380  3329  2306 21818  1000  3200  3000\n",
      " 10358   316  2007]\n",
      "PAY_AMT2 [  689  1000  1500  2019 36681  1815 40000   601     0    12  9966  6500\n",
      "  3000 10000  1537]\n",
      "PAY_AMT3 [    0  1000  1200 10000   657 38000   432    50  8583  6500  3000  1100\n",
      "  1500 75940   560]\n",
      "PAY_AMT4 [    0  1000  1100  9000 20239   581 13007   300 22301  6500  3000  1200\n",
      " 20000  2000   632]\n",
      "PAY_AMT5 [     0   1000   1069    689  13750   1687   1122   3738   2870   1500\n",
      "   3000   1300   1650 195599    930]\n",
      "PAY_AMT6 [    0  2000  5000  1000   679   800 13770  1542    66  3640  3000  1100\n",
      " 50000 33764  1820]\n",
      "default payment next month [1 0]\n"
     ]
    }
   ],
   "source": [
    "for col in rawdata.columns:\n",
    "    print(col, rawdata[col].unique()[0:15])"
   ]
  },
  {
   "cell_type": "code",
   "execution_count": 9,
   "id": "c4a014f5",
   "metadata": {},
   "outputs": [],
   "source": [
    "rename_dict = {'default payment next month':'target'}\n",
    "\n",
    "processed_df = rawdata.copy()\n",
    "processed_df = processed_df.rename(columns=rename_dict)"
   ]
  },
  {
   "cell_type": "code",
   "execution_count": 10,
   "id": "b9df0016",
   "metadata": {},
   "outputs": [],
   "source": [
    "processed_df.columns = [col.lower() for col in processed_df.columns] "
   ]
  },
  {
   "cell_type": "markdown",
   "id": "3f51033b",
   "metadata": {},
   "source": [
    "#### target y \n",
    "比例還行，沒有很嚴重的unbalanced"
   ]
  },
  {
   "cell_type": "code",
   "execution_count": 11,
   "id": "739e6b4d",
   "metadata": {},
   "outputs": [
    {
     "name": "stdout",
     "output_type": "stream",
     "text": [
      "target value counts:\n",
      "0    23364\n",
      "1     6636\n",
      "Name: target, dtype: int64\n",
      "target value percentage:\n",
      "0    0.7788\n",
      "1    0.2212\n",
      "Name: target, dtype: float64\n"
     ]
    }
   ],
   "source": [
    "print('target value counts:')\n",
    "print(processed_df['target'].value_counts())\n",
    "\n",
    "print('target value percentage:')\n",
    "print(processed_df['target'].value_counts(normalize=True))"
   ]
  },
  {
   "cell_type": "markdown",
   "id": "8ddfbac5",
   "metadata": {},
   "source": [
    "#### limit_bal"
   ]
  },
  {
   "cell_type": "code",
   "execution_count": 12,
   "id": "68e8285b",
   "metadata": {},
   "outputs": [
    {
     "data": {
      "text/plain": [
       "<seaborn.axisgrid.FacetGrid at 0x12b7722f340>"
      ]
     },
     "execution_count": 12,
     "metadata": {},
     "output_type": "execute_result"
    },
    {
     "data": {
      "image/png": "[encoded data removed]",
      "text/plain": [
       "<Figure size 402.375x360 with 1 Axes>"
      ]
     },
     "metadata": {
      "needs_background": "light"
     },
     "output_type": "display_data"
    }
   ],
   "source": [
    "sns.displot(processed_df, x='limit_bal', hue='target', kind='kde')"
   ]
  },
  {
   "cell_type": "markdown",
   "id": "3972bffe",
   "metadata": {},
   "source": [
    "#### pay_0 ~ pay_6\n",
    "\n",
    "pay_0: 2005/9\n",
    "pay_2: 2005/8\n",
    "pay_3: 2005/7\n",
    "pay_4: 2005/6\n",
    "pay_5: 2005/5\n",
    "pay_6: 2005/4\n",
    "\n",
    "- -2 = no need to pay;\n",
    "- -1 = pay duly; \n",
    "- 0 = revolving credit\n",
    "- 1 = payment delay for one month; \n",
    "- 2 = payment delay for two months; . . .; \n",
    "- 8 = payment delay for eight months; \n",
    "- 9 = payment delay for nine months and above."
   ]
  },
  {
   "cell_type": "code",
   "execution_count": 13,
   "id": "80902169",
   "metadata": {
    "scrolled": true
   },
   "outputs": [
    {
     "data": {
      "text/plain": [
       " 0    14737\n",
       "-1     5686\n",
       " 1     3688\n",
       "-2     2759\n",
       " 2     2667\n",
       " 3      322\n",
       " 4       76\n",
       " 5       26\n",
       " 8       19\n",
       " 6       11\n",
       " 7        9\n",
       "Name: pay_0, dtype: int64"
      ]
     },
     "execution_count": 13,
     "metadata": {},
     "output_type": "execute_result"
    }
   ],
   "source": [
    "processed_df['pay_0'].value_counts()"
   ]
  },
  {
   "cell_type": "code",
   "execution_count": 14,
   "id": "877c6228",
   "metadata": {},
   "outputs": [],
   "source": [
    "plot_df1 = processed_df.groupby(['pay_0'])[['target']].mean()\n",
    "plot_df2 = processed_df.groupby(['pay_2'])[['target']].mean()\n",
    "plot_df3 = processed_df.groupby(['pay_3'])[['target']].mean()\n",
    "plot_df4 = processed_df.groupby(['pay_4'])[['target']].mean()\n",
    "plot_df5 = processed_df.groupby(['pay_5'])[['target']].mean()\n",
    "plot_df6 = processed_df.groupby(['pay_6'])[['target']].mean()"
   ]
  },
  {
   "cell_type": "code",
   "execution_count": 15,
   "id": "599a9228",
   "metadata": {
    "scrolled": true
   },
   "outputs": [
    {
     "data": {
      "image/png": "[encoded data removed]",
      "text/plain": [
       "<Figure size 1296x432 with 6 Axes>"
      ]
     },
     "metadata": {
      "needs_background": "light"
     },
     "output_type": "display_data"
    }
   ],
   "source": [
    "fig, (ax1, ax2, ax3, ax4, ax5, ax6) = plt.subplots(1,6, figsize=(18,6))\n",
    "sns.heatmap(plot_df1, cmap='YlGnBu', annot=True, fmt='.4f', ax=ax1, cbar=False, vmin=0, vmax=1)\n",
    "sns.heatmap(plot_df2, cmap='YlGnBu', annot=True, fmt='.4f', ax=ax2, cbar=False, vmin=0, vmax=1)\n",
    "sns.heatmap(plot_df3, cmap='YlGnBu', annot=True, fmt='.4f', ax=ax3, cbar=False, vmin=0, vmax=1)\n",
    "sns.heatmap(plot_df4, cmap='YlGnBu', annot=True, fmt='.4f', ax=ax4, cbar=False, vmin=0, vmax=1)\n",
    "sns.heatmap(plot_df5, cmap='YlGnBu', annot=True, fmt='.4f', ax=ax5, cbar=False, vmin=0, vmax=1)\n",
    "sns.heatmap(plot_df6, cmap='YlGnBu', annot=True, fmt='.4f', ax=ax6, cbar=False, vmin=0, vmax=1)\n",
    "ax2.set(yticklabels='')\n",
    "ax3.set(yticklabels='')\n",
    "ax4.set(yticklabels='')\n",
    "ax5.set(yticklabels='')\n",
    "ax6.set(yticklabels='')\n",
    "plt.show()"
   ]
  },
  {
   "cell_type": "markdown",
   "id": "fd98cd02",
   "metadata": {},
   "source": [
    "## feature engineering"
   ]
  },
  {
   "cell_type": "markdown",
   "id": "6388cc8e",
   "metadata": {},
   "source": [
    "#### 衍生變數\n",
    "\n",
    "- ok 使用率 = bill_amt / limit\n",
    "- ok 循環比率 = pay_amt / bill_amt\n",
    "- feature cross of age & education \n",
    "- ok average bill_amt\n",
    "- ok billamt 增率\n",
    "- ok average pay_amt\n",
    "- ok pay_amt 標準差\n"
   ]
  },
  {
   "cell_type": "markdown",
   "id": "ad10c36e",
   "metadata": {},
   "source": [
    "#### pay_0 ~ pay_6\n",
    "\n",
    "- 近6期繳清次數\n",
    "- 近6無帳單次數\n",
    "- 近6循環次數\n",
    "- 近6逾期次數\n",
    "- 近6最差繳型\n"
   ]
  },
  {
   "cell_type": "code",
   "execution_count": 16,
   "id": "1d292703",
   "metadata": {},
   "outputs": [],
   "source": [
    "processed_df.loc[:,'fullpay_l6m'] = (processed_df.pay_0==-1).astype(int) +\\\n",
    "                                    (processed_df.pay_2==-1).astype(int) +\\\n",
    "                                    (processed_df.pay_3==-1).astype(int) +\\\n",
    "                                    (processed_df.pay_4==-1).astype(int) +\\\n",
    "                                    (processed_df.pay_5==-1).astype(int) +\\\n",
    "                                    (processed_df.pay_6==-1).astype(int)"
   ]
  },
  {
   "cell_type": "code",
   "execution_count": 17,
   "id": "22b3ed78",
   "metadata": {},
   "outputs": [],
   "source": [
    "processed_df.loc[:,'revolve_l6m'] = (processed_df.pay_0==0).astype(int) +\\\n",
    "                                    (processed_df.pay_2==0).astype(int) +\\\n",
    "                                    (processed_df.pay_3==0).astype(int) +\\\n",
    "                                    (processed_df.pay_4==0).astype(int) +\\\n",
    "                                    (processed_df.pay_5==0).astype(int) +\\\n",
    "                                    (processed_df.pay_6==0).astype(int)"
   ]
  },
  {
   "cell_type": "code",
   "execution_count": 18,
   "id": "0075e437",
   "metadata": {},
   "outputs": [],
   "source": [
    "processed_df.loc[:,'nobill_l6m'] = (processed_df.pay_0==-2).astype(int) +\\\n",
    "                                   (processed_df.pay_2==-2).astype(int) +\\\n",
    "                                   (processed_df.pay_3==-2).astype(int) +\\\n",
    "                                   (processed_df.pay_4==-2).astype(int) +\\\n",
    "                                   (processed_df.pay_5==-2).astype(int) +\\\n",
    "                                   (processed_df.pay_6==-2).astype(int)"
   ]
  },
  {
   "cell_type": "code",
   "execution_count": 19,
   "id": "3ff42f5a",
   "metadata": {},
   "outputs": [],
   "source": [
    "processed_df.loc[:,'default_l6m'] = (processed_df.pay_0>=1).astype(int) +\\\n",
    "                                    (processed_df.pay_2>=1).astype(int) +\\\n",
    "                                    (processed_df.pay_3>=1).astype(int) +\\\n",
    "                                    (processed_df.pay_4>=1).astype(int) +\\\n",
    "                                    (processed_df.pay_5>=1).astype(int) +\\\n",
    "                                    (processed_df.pay_6>=1).astype(int)"
   ]
  },
  {
   "cell_type": "code",
   "execution_count": 20,
   "id": "ae113435",
   "metadata": {},
   "outputs": [],
   "source": [
    "processed_df.loc[:,'wstpay_l6m'] = processed_df[['pay_0','pay_2','pay_3','pay_4','pay_5','pay_6']].max(axis=1)"
   ]
  },
  {
   "cell_type": "markdown",
   "id": "a48113a7",
   "metadata": {},
   "source": [
    "#### bill_amt1 ~ bill_amt6"
   ]
  },
  {
   "cell_type": "code",
   "execution_count": 21,
   "id": "7920a4a0",
   "metadata": {},
   "outputs": [],
   "source": [
    "# if value < 0 then 0\n",
    "\n",
    "for col in ['bill_amt1','bill_amt2','bill_amt3','bill_amt4','bill_amt5','bill_amt6']:\n",
    "    processed_df.loc[:, col] = processed_df[col].clip(0, np.inf)"
   ]
  },
  {
   "cell_type": "code",
   "execution_count": 22,
   "id": "6436e528",
   "metadata": {},
   "outputs": [],
   "source": [
    "processed_df.loc[:, 'sum_bill_amt_l6m'] = processed_df.bill_amt1 + \\\n",
    "                                          processed_df.bill_amt2 + \\\n",
    "                                          processed_df.bill_amt3 + \\\n",
    "                                          processed_df.bill_amt4 + \\\n",
    "                                          processed_df.bill_amt5 + \\\n",
    "                                          processed_df.bill_amt6"
   ]
  },
  {
   "cell_type": "code",
   "execution_count": 23,
   "id": "d62bb12d",
   "metadata": {},
   "outputs": [],
   "source": [
    "processed_df.loc[:, 'avg_bill_amt_l6m'] = processed_df.sum_bill_amt_l6m.divide(6)"
   ]
  },
  {
   "cell_type": "code",
   "execution_count": 24,
   "id": "f83ee5c7",
   "metadata": {},
   "outputs": [],
   "source": [
    "processed_df.loc[:, 'std_bill_amt_l6m'] = processed_df[['bill_amt1','bill_amt2','bill_amt3',\n",
    "                                                        'bill_amt4','bill_amt5','bill_amt6']].std(axis=1)"
   ]
  },
  {
   "cell_type": "code",
   "execution_count": 25,
   "id": "97079516",
   "metadata": {},
   "outputs": [],
   "source": [
    "processed_df.loc[:, 'max_bill_amt_l6m'] = processed_df[['bill_amt1','bill_amt2','bill_amt3',\n",
    "                                                        'bill_amt4','bill_amt5','bill_amt6']].max(axis=1)"
   ]
  },
  {
   "cell_type": "code",
   "execution_count": 26,
   "id": "3ab801bc",
   "metadata": {},
   "outputs": [],
   "source": [
    "processed_df.loc[:, 'min_bill_amt_l6m'] = processed_df[['bill_amt1','bill_amt2','bill_amt3',\n",
    "                                                        'bill_amt4','bill_amt5','bill_amt6']].min(axis=1)"
   ]
  },
  {
   "cell_type": "code",
   "execution_count": 27,
   "id": "1e9d6eae",
   "metadata": {},
   "outputs": [],
   "source": [
    "processed_df.loc[:, 'range_bill_amt_l6m'] = processed_df.max_bill_amt_l6m - processed_df.min_bill_amt_l6m"
   ]
  },
  {
   "cell_type": "code",
   "execution_count": 28,
   "id": "77b37e09",
   "metadata": {},
   "outputs": [],
   "source": [
    "processed_df.loc[:, 'max_bill_amt_l3m'] = processed_df[['bill_amt1','bill_amt2','bill_amt3']].max(axis=1)"
   ]
  },
  {
   "cell_type": "code",
   "execution_count": 29,
   "id": "602bbb9a",
   "metadata": {},
   "outputs": [],
   "source": [
    "processed_df.loc[:, 'min_bill_amt_f3m'] = processed_df[['bill_amt4','bill_amt5','bill_amt6']].max(axis=1)"
   ]
  },
  {
   "cell_type": "code",
   "execution_count": 30,
   "id": "a4dd56ca",
   "metadata": {},
   "outputs": [],
   "source": [
    "processed_df.loc[:, 'growingrt_bill_amt'] = (processed_df.max_bill_amt_l3m / processed_df.min_bill_amt_f3m).fillna(0).clip(0,30)"
   ]
  },
  {
   "cell_type": "markdown",
   "id": "6e6c1a0a",
   "metadata": {},
   "source": [
    "#### pay_amt1 ~ pay_amt6"
   ]
  },
  {
   "cell_type": "code",
   "execution_count": 31,
   "id": "bab61773",
   "metadata": {},
   "outputs": [],
   "source": [
    "processed_df.loc[:, 'sum_pay_amt_l6m'] = processed_df.pay_amt1 + \\\n",
    "                                         processed_df.pay_amt2 + \\\n",
    "                                         processed_df.pay_amt3 + \\\n",
    "                                         processed_df.pay_amt4 + \\\n",
    "                                         processed_df.pay_amt5 + \\\n",
    "                                         processed_df.pay_amt6"
   ]
  },
  {
   "cell_type": "code",
   "execution_count": 32,
   "id": "6ccca438",
   "metadata": {},
   "outputs": [],
   "source": [
    "processed_df.loc[:, 'avg_pay_amt_l6m'] = processed_df.sum_pay_amt_l6m.divide(6)"
   ]
  },
  {
   "cell_type": "code",
   "execution_count": 33,
   "id": "54671682",
   "metadata": {},
   "outputs": [],
   "source": [
    "processed_df.loc[:, 'std_pay_amt_l6m'] = processed_df[['pay_amt1','pay_amt2','pay_amt3',\n",
    "                                                       'pay_amt4','pay_amt5','pay_amt6']].std(axis=1)"
   ]
  },
  {
   "cell_type": "code",
   "execution_count": 34,
   "id": "605aa890",
   "metadata": {},
   "outputs": [],
   "source": [
    "processed_df.loc[:, 'max_pay_amt_l6m'] = processed_df[['pay_amt1','pay_amt2','pay_amt3',\n",
    "                                                       'pay_amt4','pay_amt5','pay_amt6']].max(axis=1)"
   ]
  },
  {
   "cell_type": "code",
   "execution_count": 35,
   "id": "09c81f5d",
   "metadata": {},
   "outputs": [],
   "source": [
    "processed_df.loc[:, 'min_pay_amt_l6m'] = processed_df[['pay_amt1','pay_amt2','pay_amt3',\n",
    "                                                       'pay_amt4','pay_amt5','pay_amt6']].min(axis=1)"
   ]
  },
  {
   "cell_type": "code",
   "execution_count": 36,
   "id": "fcc9b451",
   "metadata": {},
   "outputs": [],
   "source": [
    "processed_df.loc[:, 'range_pay_amt_l6m'] = processed_df.max_pay_amt_l6m - processed_df.min_pay_amt_l6m"
   ]
  },
  {
   "cell_type": "code",
   "execution_count": 157,
   "id": "a47024f4",
   "metadata": {},
   "outputs": [],
   "source": [
    "processed_df.loc[:, 'avg_ultrt_l1m'] = (processed_df.bill_amt1 / processed_df.limit_bal)"
   ]
  },
  {
   "cell_type": "code",
   "execution_count": 37,
   "id": "39119a0f",
   "metadata": {},
   "outputs": [],
   "source": [
    "processed_df.loc[:, 'avg_ultrt_l6m'] = processed_df.avg_bill_amt_l6m / processed_df.limit_bal"
   ]
  },
  {
   "cell_type": "code",
   "execution_count": 161,
   "id": "cf346fe3",
   "metadata": {},
   "outputs": [],
   "source": [
    "processed_df.loc[:, 'avg_revolve_l1m'] = (processed_df.pay_amt1 / processed_df.bill_amt1).fillna(0).clip(0,1)"
   ]
  },
  {
   "cell_type": "code",
   "execution_count": 38,
   "id": "9df6da42",
   "metadata": {},
   "outputs": [],
   "source": [
    "processed_df.loc[:, 'avg_revolve_l6m'] = (processed_df.avg_pay_amt_l6m / processed_df.avg_bill_amt_l6m).fillna(0).clip(0,1)"
   ]
  },
  {
   "cell_type": "code",
   "execution_count": 39,
   "id": "5a1b751e",
   "metadata": {},
   "outputs": [
    {
     "data": {
      "text/plain": [
       "0.24798256191447918"
      ]
     },
     "execution_count": 39,
     "metadata": {},
     "output_type": "execute_result"
    }
   ],
   "source": [
    "processed_df.query('avg_revolve_l6m<=0.5').target.mean()"
   ]
  },
  {
   "cell_type": "markdown",
   "id": "35f728d4",
   "metadata": {},
   "source": [
    "#### categorical"
   ]
  },
  {
   "cell_type": "markdown",
   "id": "b3a53df3",
   "metadata": {},
   "source": [
    "- SEX [2 1]\n",
    "- EDUCATION [2 1 3 5 4 6 0]\n",
    "- MARRIAGE [1 2 3 0]\n",
    "- wstpay_l6m \n"
   ]
  },
  {
   "cell_type": "markdown",
   "id": "1277f528",
   "metadata": {},
   "source": [
    "### train_test_split"
   ]
  },
  {
   "cell_type": "code",
   "execution_count": 165,
   "id": "5d9b63ed",
   "metadata": {},
   "outputs": [],
   "source": [
    "feature_list = [\n",
    "    'sex',\n",
    "    'education',\n",
    "    'marriage',\n",
    "    'wstpay_l6m',\n",
    "    'age',\n",
    "    'limit_bal',\n",
    "    'sum_bill_amt_l6m',\n",
    "    'avg_bill_amt_l6m',\n",
    "    'avg_ultrt_l1m',\n",
    "    'avg_ultrt_l6m',\n",
    "    'sum_pay_amt_l6m',\n",
    "    'avg_pay_amt_l6m',\n",
    "    'avg_revolve_l1m',\n",
    "    'avg_revolve_l6m',\n",
    "    'std_bill_amt_l6m',\n",
    "    'std_pay_amt_l6m',\n",
    "    'max_bill_amt_l6m',\n",
    "    'min_bill_amt_l6m',\n",
    "    'range_bill_amt_l6m',\n",
    "    'max_pay_amt_l6m',\n",
    "    'min_pay_amt_l6m',\n",
    "    'range_pay_amt_l6m',\n",
    "    'fullpay_l6m',\n",
    "    'revolve_l6m',\n",
    "    'nobill_l6m',\n",
    "    'default_l6m',\n",
    "    'growingrt_bill_amt',\n",
    "    'max_bill_amt_l3m',\n",
    "    'min_bill_amt_f3m',\n",
    "]"
   ]
  },
  {
   "cell_type": "code",
   "execution_count": 166,
   "id": "c5013c41",
   "metadata": {},
   "outputs": [],
   "source": [
    "xtrain, xtest, ytrain, ytest = train_test_split(processed_df[feature_list], \n",
    "                                                processed_df['target'], \n",
    "                                                test_size=0.1, \n",
    "                                                stratify=processed_df['target'],\n",
    "                                                shuffle=True,\n",
    "                                                random_state=19\n",
    "                                               )"
   ]
  },
  {
   "cell_type": "code",
   "execution_count": 167,
   "id": "241c4989",
   "metadata": {},
   "outputs": [],
   "source": [
    "xtrain, xvalid, ytrain, yvalid = train_test_split(xtrain, \n",
    "                                                  ytrain, \n",
    "                                                  test_size=0.25,\n",
    "                                                  stratify=ytrain,\n",
    "                                                  shuffle=True,\n",
    "                                                  random_state=19\n",
    "                                                 )"
   ]
  },
  {
   "cell_type": "code",
   "execution_count": 168,
   "id": "bdebeb4d",
   "metadata": {},
   "outputs": [
    {
     "name": "stdout",
     "output_type": "stream",
     "text": [
      "(20250, 29)\n",
      "(6750, 29)\n",
      "(3000, 29)\n",
      "(20250,) target rate: 0.22118518518518518\n",
      "(6750,) target rate: 0.22118518518518518\n",
      "(3000,) target rate: 0.22133333333333333\n"
     ]
    }
   ],
   "source": [
    "print(xtrain.shape)\n",
    "print(xvalid.shape)\n",
    "print(xtest.shape)\n",
    "print(ytrain.shape, 'target rate:', ytrain.mean())\n",
    "print(yvalid.shape, 'target rate:', yvalid.mean())\n",
    "print(ytest.shape, 'target rate:', ytest.mean())"
   ]
  },
  {
   "cell_type": "markdown",
   "id": "49465bbc",
   "metadata": {},
   "source": [
    "### train the model"
   ]
  },
  {
   "cell_type": "code",
   "execution_count": 532,
   "id": "383480e6",
   "metadata": {},
   "outputs": [],
   "source": [
    "train_data = lgb.Dataset(xtrain, label=ytrain, \n",
    "                         feature_name=feature_list, \n",
    "                         categorical_feature=['sex', 'education', 'marriage', 'wstpay_l6m'])"
   ]
  },
  {
   "cell_type": "code",
   "execution_count": 533,
   "id": "aa64a404",
   "metadata": {},
   "outputs": [],
   "source": [
    "validation_data = lgb.Dataset(xvalid, label=yvalid, \n",
    "                              feature_name=feature_list, \n",
    "                              categorical_feature=['sex', 'education', 'marriage', 'wstpay_l6m'])"
   ]
  },
  {
   "cell_type": "code",
   "execution_count": 534,
   "id": "1ad7a34f",
   "metadata": {},
   "outputs": [],
   "source": [
    "params = {\n",
    "          'boosting_type': 'gbdt',\n",
    "          'objective': 'binary',\n",
    "          'metric':'auc',\n",
    "          'learning_rate': 0.02,\n",
    "          'num_leaves': 50,  # we should let it be smaller than 2^(max_depth)\n",
    "          'max_depth': 10,  # -1 means no limit\n",
    "          'min_data_in_leaf':100,  # Minimum number of data need in a child(min_data_in_leaf)\n",
    "          'max_bin': 7,  # Number of bucketed bin for feature values\n",
    "          'subsample': 0.8,  # Subsample ratio of the training instance.\n",
    "          'subsample_freq': 1,  # frequence of subsample, <=0 means no enable\n",
    "          'colsample_bytree': 0.8,  # Subsample ratio of columns when constructing each tree.\n",
    "          'min_child_weight': 0.2,  # Minimum sum of instance weight(hessian) needed in a child(leaf)\n",
    "          'min_split_gain': 0.3,  # lambda_l1, lambda_l2 and min_gain_to_split to regularization\n",
    "          'verbose': 0,\n",
    "         }"
   ]
  },
  {
   "cell_type": "code",
   "execution_count": 535,
   "id": "e16ba13c",
   "metadata": {
    "scrolled": false
   },
   "outputs": [
    {
     "name": "stdout",
     "output_type": "stream",
     "text": [
      "[LightGBM] [Warning] Met negative value in categorical features, will convert it to NaN\n",
      "[LightGBM] [Warning] Met negative value in categorical features, will convert it to NaN\n",
      "[LightGBM] [Warning] Auto-choosing col-wise multi-threading, the overhead of testing was 0.006193 seconds.\n",
      "You can set `force_col_wise=true` to remove the overhead.\n",
      "[1]\ttrain's auc: 0.780936\tvalid's auc: 0.762835\n",
      "[2]\ttrain's auc: 0.786562\tvalid's auc: 0.768531\n",
      "[3]\ttrain's auc: 0.787977\tvalid's auc: 0.771839\n",
      "[4]\ttrain's auc: 0.789163\tvalid's auc: 0.773199\n",
      "[5]\ttrain's auc: 0.789545\tvalid's auc: 0.774669\n",
      "[6]\ttrain's auc: 0.790068\tvalid's auc: 0.774561\n",
      "[7]\ttrain's auc: 0.79045\tvalid's auc: 0.775301\n",
      "[8]\ttrain's auc: 0.791104\tvalid's auc: 0.776287\n",
      "[9]\ttrain's auc: 0.791363\tvalid's auc: 0.777065\n",
      "[10]\ttrain's auc: 0.791597\tvalid's auc: 0.777301\n",
      "[11]\ttrain's auc: 0.791985\tvalid's auc: 0.777863\n",
      "[12]\ttrain's auc: 0.792154\tvalid's auc: 0.778166\n",
      "[13]\ttrain's auc: 0.792046\tvalid's auc: 0.778073\n",
      "[14]\ttrain's auc: 0.792367\tvalid's auc: 0.778263\n",
      "[15]\ttrain's auc: 0.792646\tvalid's auc: 0.778002\n",
      "[16]\ttrain's auc: 0.792897\tvalid's auc: 0.777845\n",
      "[17]\ttrain's auc: 0.793263\tvalid's auc: 0.778117\n",
      "[18]\ttrain's auc: 0.793368\tvalid's auc: 0.778085\n",
      "[19]\ttrain's auc: 0.793763\tvalid's auc: 0.777968\n",
      "[20]\ttrain's auc: 0.793927\tvalid's auc: 0.777705\n",
      "[21]\ttrain's auc: 0.794124\tvalid's auc: 0.777964\n",
      "[22]\ttrain's auc: 0.79418\tvalid's auc: 0.778036\n",
      "[23]\ttrain's auc: 0.79446\tvalid's auc: 0.778305\n",
      "[24]\ttrain's auc: 0.794598\tvalid's auc: 0.77817\n",
      "[25]\ttrain's auc: 0.795069\tvalid's auc: 0.778304\n",
      "[26]\ttrain's auc: 0.795102\tvalid's auc: 0.77836\n",
      "[27]\ttrain's auc: 0.795281\tvalid's auc: 0.778449\n",
      "[28]\ttrain's auc: 0.79542\tvalid's auc: 0.778503\n",
      "[29]\ttrain's auc: 0.79569\tvalid's auc: 0.778481\n",
      "[30]\ttrain's auc: 0.795746\tvalid's auc: 0.778292\n",
      "[31]\ttrain's auc: 0.795953\tvalid's auc: 0.778276\n",
      "[32]\ttrain's auc: 0.796091\tvalid's auc: 0.778132\n",
      "[33]\ttrain's auc: 0.796361\tvalid's auc: 0.778096\n",
      "[34]\ttrain's auc: 0.796565\tvalid's auc: 0.778091\n",
      "[35]\ttrain's auc: 0.796715\tvalid's auc: 0.778074\n",
      "[36]\ttrain's auc: 0.796965\tvalid's auc: 0.778215\n",
      "[37]\ttrain's auc: 0.797197\tvalid's auc: 0.778089\n",
      "[38]\ttrain's auc: 0.797431\tvalid's auc: 0.778176\n",
      "[39]\ttrain's auc: 0.797617\tvalid's auc: 0.778376\n",
      "[40]\ttrain's auc: 0.797783\tvalid's auc: 0.778342\n",
      "[41]\ttrain's auc: 0.798\tvalid's auc: 0.778422\n",
      "[42]\ttrain's auc: 0.798307\tvalid's auc: 0.778515\n",
      "[43]\ttrain's auc: 0.798556\tvalid's auc: 0.778456\n",
      "[44]\ttrain's auc: 0.798701\tvalid's auc: 0.778407\n",
      "[45]\ttrain's auc: 0.798852\tvalid's auc: 0.778514\n",
      "[46]\ttrain's auc: 0.799064\tvalid's auc: 0.778652\n",
      "[47]\ttrain's auc: 0.799265\tvalid's auc: 0.778753\n",
      "[48]\ttrain's auc: 0.799342\tvalid's auc: 0.778718\n",
      "[49]\ttrain's auc: 0.799537\tvalid's auc: 0.778748\n",
      "[50]\ttrain's auc: 0.799749\tvalid's auc: 0.778768\n",
      "[51]\ttrain's auc: 0.799914\tvalid's auc: 0.778933\n",
      "[52]\ttrain's auc: 0.800279\tvalid's auc: 0.778825\n",
      "[53]\ttrain's auc: 0.800544\tvalid's auc: 0.779011\n",
      "[54]\ttrain's auc: 0.80083\tvalid's auc: 0.778982\n",
      "[55]\ttrain's auc: 0.801047\tvalid's auc: 0.779009\n",
      "[56]\ttrain's auc: 0.801225\tvalid's auc: 0.778998\n",
      "[57]\ttrain's auc: 0.801409\tvalid's auc: 0.779079\n",
      "[58]\ttrain's auc: 0.801561\tvalid's auc: 0.779118\n",
      "[59]\ttrain's auc: 0.801744\tvalid's auc: 0.779179\n",
      "[60]\ttrain's auc: 0.801838\tvalid's auc: 0.779254\n",
      "[61]\ttrain's auc: 0.801924\tvalid's auc: 0.779143\n",
      "[62]\ttrain's auc: 0.802051\tvalid's auc: 0.779211\n",
      "[63]\ttrain's auc: 0.802239\tvalid's auc: 0.779286\n",
      "[64]\ttrain's auc: 0.802441\tvalid's auc: 0.779405\n",
      "[65]\ttrain's auc: 0.802615\tvalid's auc: 0.779449\n",
      "[66]\ttrain's auc: 0.802793\tvalid's auc: 0.779461\n",
      "[67]\ttrain's auc: 0.802964\tvalid's auc: 0.779504\n",
      "[68]\ttrain's auc: 0.803107\tvalid's auc: 0.779497\n",
      "[69]\ttrain's auc: 0.803241\tvalid's auc: 0.779392\n",
      "[70]\ttrain's auc: 0.803391\tvalid's auc: 0.779358\n",
      "[71]\ttrain's auc: 0.80358\tvalid's auc: 0.779449\n",
      "[72]\ttrain's auc: 0.803879\tvalid's auc: 0.779472\n",
      "[73]\ttrain's auc: 0.804017\tvalid's auc: 0.779503\n",
      "[74]\ttrain's auc: 0.804133\tvalid's auc: 0.77947\n",
      "[75]\ttrain's auc: 0.804297\tvalid's auc: 0.77951\n",
      "[76]\ttrain's auc: 0.804509\tvalid's auc: 0.779516\n",
      "[77]\ttrain's auc: 0.804639\tvalid's auc: 0.779551\n",
      "[78]\ttrain's auc: 0.804767\tvalid's auc: 0.779535\n",
      "[79]\ttrain's auc: 0.804956\tvalid's auc: 0.779546\n",
      "[80]\ttrain's auc: 0.805075\tvalid's auc: 0.77959\n",
      "[81]\ttrain's auc: 0.805208\tvalid's auc: 0.779557\n",
      "[82]\ttrain's auc: 0.805367\tvalid's auc: 0.779575\n",
      "[83]\ttrain's auc: 0.805544\tvalid's auc: 0.779628\n",
      "[84]\ttrain's auc: 0.805784\tvalid's auc: 0.779618\n",
      "[85]\ttrain's auc: 0.805927\tvalid's auc: 0.779667\n",
      "[86]\ttrain's auc: 0.806115\tvalid's auc: 0.779724\n",
      "[87]\ttrain's auc: 0.806283\tvalid's auc: 0.779675\n",
      "[88]\ttrain's auc: 0.806431\tvalid's auc: 0.779721\n",
      "[89]\ttrain's auc: 0.806605\tvalid's auc: 0.779727\n",
      "[90]\ttrain's auc: 0.806774\tvalid's auc: 0.77967\n",
      "[91]\ttrain's auc: 0.806936\tvalid's auc: 0.7797\n",
      "[92]\ttrain's auc: 0.807139\tvalid's auc: 0.779805\n",
      "[93]\ttrain's auc: 0.807405\tvalid's auc: 0.779715\n",
      "[94]\ttrain's auc: 0.807641\tvalid's auc: 0.779846\n",
      "[95]\ttrain's auc: 0.807766\tvalid's auc: 0.779845\n",
      "[96]\ttrain's auc: 0.807969\tvalid's auc: 0.779801\n",
      "[97]\ttrain's auc: 0.808153\tvalid's auc: 0.779785\n",
      "[98]\ttrain's auc: 0.808315\tvalid's auc: 0.7799\n",
      "[99]\ttrain's auc: 0.808507\tvalid's auc: 0.78004\n",
      "[100]\ttrain's auc: 0.808658\tvalid's auc: 0.78008\n",
      "[101]\ttrain's auc: 0.808864\tvalid's auc: 0.780157\n",
      "[102]\ttrain's auc: 0.809021\tvalid's auc: 0.780138\n",
      "[103]\ttrain's auc: 0.809238\tvalid's auc: 0.780143\n",
      "[104]\ttrain's auc: 0.809404\tvalid's auc: 0.780116\n",
      "[105]\ttrain's auc: 0.809614\tvalid's auc: 0.780088\n",
      "[106]\ttrain's auc: 0.809746\tvalid's auc: 0.779981\n",
      "[107]\ttrain's auc: 0.809903\tvalid's auc: 0.780008\n",
      "[108]\ttrain's auc: 0.810036\tvalid's auc: 0.779994\n",
      "[109]\ttrain's auc: 0.810151\tvalid's auc: 0.780036\n",
      "[110]\ttrain's auc: 0.810296\tvalid's auc: 0.780031\n",
      "[111]\ttrain's auc: 0.81052\tvalid's auc: 0.780086\n",
      "[112]\ttrain's auc: 0.810645\tvalid's auc: 0.780059\n",
      "[113]\ttrain's auc: 0.810846\tvalid's auc: 0.78007\n",
      "[114]\ttrain's auc: 0.811051\tvalid's auc: 0.780084\n",
      "[115]\ttrain's auc: 0.811272\tvalid's auc: 0.780093\n",
      "[116]\ttrain's auc: 0.81142\tvalid's auc: 0.780038\n",
      "[117]\ttrain's auc: 0.811595\tvalid's auc: 0.780058\n",
      "[118]\ttrain's auc: 0.811761\tvalid's auc: 0.780119\n",
      "[119]\ttrain's auc: 0.811946\tvalid's auc: 0.780183\n",
      "[120]\ttrain's auc: 0.812137\tvalid's auc: 0.780212\n",
      "[121]\ttrain's auc: 0.812342\tvalid's auc: 0.780323\n",
      "[122]\ttrain's auc: 0.812524\tvalid's auc: 0.780382\n",
      "[123]\ttrain's auc: 0.812697\tvalid's auc: 0.780292\n",
      "[124]\ttrain's auc: 0.812887\tvalid's auc: 0.780202\n",
      "[125]\ttrain's auc: 0.813063\tvalid's auc: 0.780185\n",
      "[126]\ttrain's auc: 0.813183\tvalid's auc: 0.780312\n",
      "[127]\ttrain's auc: 0.813317\tvalid's auc: 0.780413\n",
      "[128]\ttrain's auc: 0.813466\tvalid's auc: 0.78042\n",
      "[129]\ttrain's auc: 0.813589\tvalid's auc: 0.780504\n",
      "[130]\ttrain's auc: 0.813723\tvalid's auc: 0.780453\n",
      "[131]\ttrain's auc: 0.813896\tvalid's auc: 0.780457\n",
      "[132]\ttrain's auc: 0.814132\tvalid's auc: 0.78045\n",
      "[133]\ttrain's auc: 0.814263\tvalid's auc: 0.780462\n",
      "[134]\ttrain's auc: 0.814423\tvalid's auc: 0.780369\n",
      "[135]\ttrain's auc: 0.814607\tvalid's auc: 0.780382\n",
      "[136]\ttrain's auc: 0.814811\tvalid's auc: 0.780319\n",
      "[137]\ttrain's auc: 0.814979\tvalid's auc: 0.780241\n",
      "[138]\ttrain's auc: 0.815252\tvalid's auc: 0.780218\n",
      "[139]\ttrain's auc: 0.815409\tvalid's auc: 0.780301\n",
      "[140]\ttrain's auc: 0.815618\tvalid's auc: 0.780369\n",
      "[141]\ttrain's auc: 0.815839\tvalid's auc: 0.780429\n",
      "[142]\ttrain's auc: 0.816073\tvalid's auc: 0.780384\n",
      "[143]\ttrain's auc: 0.816282\tvalid's auc: 0.780398\n",
      "[144]\ttrain's auc: 0.816495\tvalid's auc: 0.780437\n",
      "[145]\ttrain's auc: 0.816677\tvalid's auc: 0.780439\n",
      "[146]\ttrain's auc: 0.816843\tvalid's auc: 0.780464\n",
      "[147]\ttrain's auc: 0.81704\tvalid's auc: 0.7804\n",
      "[148]\ttrain's auc: 0.817215\tvalid's auc: 0.78055\n",
      "[149]\ttrain's auc: 0.817375\tvalid's auc: 0.780554\n",
      "[150]\ttrain's auc: 0.817513\tvalid's auc: 0.780605\n",
      "[151]\ttrain's auc: 0.817652\tvalid's auc: 0.780645\n",
      "[152]\ttrain's auc: 0.817772\tvalid's auc: 0.780657\n",
      "[153]\ttrain's auc: 0.817907\tvalid's auc: 0.78067\n",
      "[154]\ttrain's auc: 0.818086\tvalid's auc: 0.780694\n",
      "[155]\ttrain's auc: 0.818237\tvalid's auc: 0.780718\n",
      "[156]\ttrain's auc: 0.818376\tvalid's auc: 0.780748\n",
      "[157]\ttrain's auc: 0.818499\tvalid's auc: 0.780703\n",
      "[158]\ttrain's auc: 0.818675\tvalid's auc: 0.780717\n",
      "[159]\ttrain's auc: 0.818881\tvalid's auc: 0.780718\n",
      "[160]\ttrain's auc: 0.818988\tvalid's auc: 0.780687\n"
     ]
    }
   ],
   "source": [
    "model = lgb.train(params, train_data, 160, valid_sets=[train_data, validation_data], valid_names=['train','valid'] )"
   ]
  },
  {
   "cell_type": "code",
   "execution_count": null,
   "id": "56239aba",
   "metadata": {},
   "outputs": [],
   "source": [
    "model = lgb.train(params, train_data, 100, valid_sets=[train_data, validation_data], valid_names=['train','valid'] )"
   ]
  },
  {
   "cell_type": "code",
   "execution_count": 536,
   "id": "da19bd6e",
   "metadata": {},
   "outputs": [],
   "source": [
    "ypred_proba_valid=model.predict(xvalid)\n",
    "\n",
    "ypred_valid = (ypred_proba_valid > 0.5).astype(int)"
   ]
  },
  {
   "cell_type": "code",
   "execution_count": 537,
   "id": "a536ea99",
   "metadata": {},
   "outputs": [],
   "source": [
    "ypred_proba_train=model.predict(xtrain)\n",
    "\n",
    "ypred_train = (ypred_proba_train > 0.5).astype(int)"
   ]
  },
  {
   "cell_type": "code",
   "execution_count": 538,
   "id": "a9de88c7",
   "metadata": {},
   "outputs": [],
   "source": [
    "def plot_confusion_matrix(ytrue, ypred, title=None):\n",
    "    confusion_matrix = pd.crosstab(ytrue, ypred,\n",
    "                                   rownames=['True'],\n",
    "                                   colnames=['Predict'])\n",
    "    \n",
    "    plot = sns.heatmap(confusion_matrix, annot=True, fmt=',.0f')\n",
    "    \n",
    "    if title is None:\n",
    "        pass\n",
    "    else:\n",
    "        plot.set_title(title)\n",
    "        \n",
    "    plt.show()"
   ]
  },
  {
   "cell_type": "code",
   "execution_count": 539,
   "id": "36ddf1b5",
   "metadata": {},
   "outputs": [],
   "source": [
    "confusion_matrix = pd.crosstab(yvalid, ypred_valid,\n",
    "                                   rownames=['True'],\n",
    "                                   colnames=['Predict'])"
   ]
  },
  {
   "cell_type": "code",
   "execution_count": 540,
   "id": "4d5a57b2",
   "metadata": {
    "scrolled": true
   },
   "outputs": [
    {
     "data": {
      "text/html": [
       "<div>\n",
       "<style scoped>\n",
       "    .dataframe tbody tr th:only-of-type {\n",
       "        vertical-align: middle;\n",
       "    }\n",
       "\n",
       "    .dataframe tbody tr th {\n",
       "        vertical-align: top;\n",
       "    }\n",
       "\n",
       "    .dataframe thead th {\n",
       "        text-align: right;\n",
       "    }\n",
       "</style>\n",
       "<table border=\"1\" class=\"dataframe\">\n",
       "  <thead>\n",
       "    <tr style=\"text-align: right;\">\n",
       "      <th>Predict</th>\n",
       "      <th>0</th>\n",
       "      <th>1</th>\n",
       "    </tr>\n",
       "    <tr>\n",
       "      <th>True</th>\n",
       "      <th></th>\n",
       "      <th></th>\n",
       "    </tr>\n",
       "  </thead>\n",
       "  <tbody>\n",
       "    <tr>\n",
       "      <th>0</th>\n",
       "      <td>4954</td>\n",
       "      <td>303</td>\n",
       "    </tr>\n",
       "    <tr>\n",
       "      <th>1</th>\n",
       "      <td>1015</td>\n",
       "      <td>478</td>\n",
       "    </tr>\n",
       "  </tbody>\n",
       "</table>\n",
       "</div>"
      ],
      "text/plain": [
       "Predict     0    1\n",
       "True              \n",
       "0        4954  303\n",
       "1        1015  478"
      ]
     },
     "execution_count": 540,
     "metadata": {},
     "output_type": "execute_result"
    }
   ],
   "source": [
    "confusion_matrix"
   ]
  },
  {
   "cell_type": "code",
   "execution_count": 541,
   "id": "ce3c81d5",
   "metadata": {},
   "outputs": [],
   "source": [
    "tn = confusion_matrix.loc[0,0]\n",
    "fp = confusion_matrix.loc[0,1]\n",
    "fn = confusion_matrix.loc[1,0]\n",
    "tp = confusion_matrix.loc[1,1]"
   ]
  },
  {
   "cell_type": "code",
   "execution_count": 542,
   "id": "74aba0f7",
   "metadata": {},
   "outputs": [
    {
     "name": "stdout",
     "output_type": "stream",
     "text": [
      "0.6120358514724712\n",
      "0.3201607501674481\n"
     ]
    }
   ],
   "source": [
    "precision = tp / (tp+fp)\n",
    "recall = tp / (tp+fn)\n",
    "\n",
    "print(precision)\n",
    "print(recall)"
   ]
  },
  {
   "cell_type": "code",
   "execution_count": 543,
   "id": "3ed0e746",
   "metadata": {},
   "outputs": [
    {
     "data": {
      "image/png": "[encoded data removed]",
      "text/plain": [
       "<Figure size 432x288 with 2 Axes>"
      ]
     },
     "metadata": {
      "needs_background": "light"
     },
     "output_type": "display_data"
    }
   ],
   "source": [
    "plot_confusion_matrix(yvalid, ypred_valid)"
   ]
  },
  {
   "cell_type": "code",
   "execution_count": 544,
   "id": "3908d390",
   "metadata": {},
   "outputs": [],
   "source": [
    "confusion_matrix = pd.crosstab(ytrain, ypred_train,\n",
    "                                   rownames=['True'],\n",
    "                                   colnames=['Predict'])"
   ]
  },
  {
   "cell_type": "code",
   "execution_count": 545,
   "id": "aa097bff",
   "metadata": {},
   "outputs": [],
   "source": [
    "tn = confusion_matrix.loc[0,0]\n",
    "fp = confusion_matrix.loc[0,1]\n",
    "fn = confusion_matrix.loc[1,0]\n",
    "tp = confusion_matrix.loc[1,1]"
   ]
  },
  {
   "cell_type": "code",
   "execution_count": 546,
   "id": "68932764",
   "metadata": {},
   "outputs": [
    {
     "name": "stdout",
     "output_type": "stream",
     "text": [
      "0.6700251889168766\n",
      "0.3563295378432686\n"
     ]
    }
   ],
   "source": [
    "precision = tp / (tp+fp)\n",
    "recall = tp / (tp+fn)\n",
    "\n",
    "print(precision)\n",
    "print(recall)"
   ]
  },
  {
   "cell_type": "code",
   "execution_count": 547,
   "id": "9251c278",
   "metadata": {},
   "outputs": [],
   "source": [
    "from sklearn.metrics import roc_curve, roc_auc_score"
   ]
  },
  {
   "cell_type": "code",
   "execution_count": 548,
   "id": "447e6b73",
   "metadata": {},
   "outputs": [],
   "source": [
    "from scipy import stats"
   ]
  },
  {
   "cell_type": "code",
   "execution_count": 549,
   "id": "92087e4c",
   "metadata": {},
   "outputs": [
    {
     "data": {
      "image/png": "[encoded data removed]",
      "text/plain": [
       "<Figure size 432x288 with 1 Axes>"
      ]
     },
     "metadata": {
      "needs_background": "light"
     },
     "output_type": "display_data"
    },
    {
     "name": "stdout",
     "output_type": "stream",
     "text": [
      "gini: 0.6379754504032649\n",
      "ks: 0.4885678109876611\n"
     ]
    }
   ],
   "source": [
    "fpr, tpr, _ = roc_curve(ytrain,  ypred_proba_train)\n",
    "auc = roc_auc_score(ytrain, ypred_proba_train)\n",
    "gini = 2 * auc - 1\n",
    "ks = stats.ks_2samp(ypred_proba_train[ytrain==0], ypred_proba_train[ytrain==1]).statistic\n",
    "\n",
    "plt.plot(fpr,tpr,label=\"auc=\"+str(auc))\n",
    "plt.legend(loc=4)\n",
    "plt.show()\n",
    "\n",
    "print('gini:', gini)\n",
    "print('ks:', ks)"
   ]
  },
  {
   "cell_type": "code",
   "execution_count": 550,
   "id": "5d3b274a",
   "metadata": {},
   "outputs": [
    {
     "data": {
      "image/png": "[encoded data removed]",
      "text/plain": [
       "<Figure size 432x288 with 1 Axes>"
      ]
     },
     "metadata": {
      "needs_background": "light"
     },
     "output_type": "display_data"
    },
    {
     "name": "stdout",
     "output_type": "stream",
     "text": [
      "gini: 0.5613742962051937\n",
      "ks: 0.42889555864085027\n"
     ]
    }
   ],
   "source": [
    "fpr, tpr, _ = roc_curve(yvalid,  ypred_proba_valid)\n",
    "auc = roc_auc_score(yvalid, ypred_proba_valid)\n",
    "gini = 2 * auc - 1\n",
    "ks = stats.ks_2samp(ypred_proba_valid[yvalid==0], ypred_proba_valid[yvalid==1]).statistic\n",
    "\n",
    "plt.plot(fpr,tpr,label=\"auc=\"+str(auc))\n",
    "plt.legend(loc=4)\n",
    "plt.show()\n",
    "\n",
    "print('gini:', gini)\n",
    "print('ks:', ks)"
   ]
  },
  {
   "cell_type": "code",
   "execution_count": 551,
   "id": "633c1b76",
   "metadata": {},
   "outputs": [
    {
     "data": {
      "text/plain": [
       "<AxesSubplot:title={'center':'Features importance (LightGBM)'}, xlabel='Feature importance', ylabel='Features'>"
      ]
     },
     "execution_count": 551,
     "metadata": {},
     "output_type": "execute_result"
    },
    {
     "data": {
      "image/png": "[encoded data removed]",
      "text/plain": [
       "<Figure size 576x360 with 1 Axes>"
      ]
     },
     "metadata": {
      "needs_background": "light"
     },
     "output_type": "display_data"
    }
   ],
   "source": [
    "fig, (ax) = plt.subplots(ncols=1, figsize=(8,5))\n",
    "lgb.plot_importance(model, height=0.8, title=\"Features importance (LightGBM)\", ax=ax) "
   ]
  },
  {
   "cell_type": "code",
   "execution_count": null,
   "id": "69f87f73",
   "metadata": {},
   "outputs": [],
   "source": []
  }
 ],
 "metadata": {
  "kernelspec": {
   "display_name": "Python 3",
   "language": "python",
   "name": "python3"
  },
  "language_info": {
   "codemirror_mode": {
    "name": "ipython",
    "version": 3
   },
   "file_extension": ".py",
   "mimetype": "text/x-python",
   "name": "python",
   "nbconvert_exporter": "python",
   "pygments_lexer": "ipython3",
   "version": "3.8.8"
  }
 },
 "nbformat": 4,
 "nbformat_minor": 5
}
